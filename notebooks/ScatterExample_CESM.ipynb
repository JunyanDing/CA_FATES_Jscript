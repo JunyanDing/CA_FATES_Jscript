{
 "cells": [
  {
   "cell_type": "code",
   "execution_count": 1,
   "metadata": {},
   "outputs": [],
   "source": [
    "import numpy as np\n",
    "import pandas as pd\n",
    "import xarray as xr\n",
    "import cf_units as cf\n",
    "from ctsm_py import utils\n",
    "import scipy\n",
    "from scipy import signal,stats\n",
    "from sklearn.linear_model import LinearRegression\n",
    "import matplotlib.pyplot as plt\n",
    "import warnings\n",
    "warnings.simplefilter(\"ignore\", category=RuntimeWarning)\n",
    "\n",
    "%matplotlib inline"
   ]
  },
  {
   "cell_type": "markdown",
   "metadata": {},
   "source": [
    "## Reading in data"
   ]
  },
  {
   "cell_type": "code",
   "execution_count": 2,
   "metadata": {},
   "outputs": [
    {
     "name": "stdout",
     "output_type": "stream",
     "text": [
      "/glade/collections/cdg/data/cesmLE/CESM-CAM5-BGC-LE/lnd/proc/tseries/monthly/AR/b.e11.B20TRC5CNBDRD.f09_g16.001.clm2.h0.AR.185001-200512.nc\n",
      "Coordinates:\n",
      "  * lon      (lon) float32 0.0 1.25 2.5 3.75 5.0 ... 355.0 356.25 357.5 358.75\n",
      "  * lat      (lat) float32 -90.0 -89.057594 -88.11518 ... 89.057594 90.0\n",
      "  * time     (time) object 1850-01-16 11:45:00 ... 2014-12-16 12:00:00\n",
      "Coordinates:\n",
      "  * lat      (lat) float32 -90.0 -89.057594 -88.11518 ... 89.057594 90.0\n",
      "  * lon      (lon) float32 0.0 1.25 2.5 3.75 5.0 ... 355.0 356.25 357.5 358.75\n",
      "  * time     (time) object 1850-01-16 11:45:00 ... 2005-12-16 12:00:00\n"
     ]
    }
   ],
   "source": [
    "# setting up the file path structure\n",
    "variables = ['GPP','AR','HR','NEE','NBP','TBOT','SOILLIQ' ]  #TWS not available for CESM1 / CLM4\n",
    "\n",
    "# --- CESM2 hist (1 ensemble member) ---\n",
    "Model = 'CESM2 hist1'\n",
    "pattern = '/glade/collections/cdg/timeseries-cmip6/b.e21.BHIST.f09_g17.CMIP6-historical.001/' \\\n",
    "    'lnd/proc/tseries/month_1/b.e21.BHIST.f09_g17.CMIP6-historical.001.clm2.h0.{var}.185001-201412.nc'\n",
    "\n",
    "# --- CESM1-LENS hist (1 ensemble member) ---\n",
    "Model1 = 'CESM1 LENS1'\n",
    "pattern1 = '/glade/collections/cdg/data/cesmLE/CESM-CAM5-BGC-LE/lnd/proc/tseries/monthly/' \\\n",
    "    '{var}/b.e11.B20TRC5CNBDRD.f09_g16.001.clm2.h0.{var}.185001-200512.nc'\n",
    "\n",
    "# --- CLM5 w/ GSWP3 ---\n",
    "#Model1 = 'CLM5 GSWP3'\n",
    "#pattern1 = '/glade/p/cgd/tss/people/oleson/CLM_LAND_ONLY_RELEASE/CLM5/clm50_r270_1deg_GSWP3V1_iso_newpopd_hist/'\\\n",
    "#    'lnd/proc/tseries/month_1/clm50_r270_1deg_GSWP3V1_iso_newpopd_hist.clm2.h0.{var}.185001-201412.nc'\n",
    "\n",
    "file  = [pattern.format(var=var) for var in variables]\n",
    "file1 = [pattern1.format(var=var) for var in variables]\n",
    "print(file1[1])\n",
    "\n",
    "var = variables #redundant, but 'var' is used more later on...\n",
    "ds = utils.time_set_mid(xr.open_mfdataset(file,combine='by_coords', decode_times=True), 'time')\n",
    "ds1 = utils.time_set_mid(xr.open_mfdataset(file1,combine='by_coords', decode_times=True), 'time')\n",
    "\n",
    "print(ds[var[2]].coords)\n",
    "print(ds1[var[2]].coords)\n",
    "# since time and levsoi / levgrnd are not the same here, maybe better not to combine datasets"
   ]
  },
  {
   "cell_type": "code",
   "execution_count": 3,
   "metadata": {},
   "outputs": [
    {
     "name": "stdout",
     "output_type": "stream",
     "text": [
      "SOILLIQ\n"
     ]
    }
   ],
   "source": [
    "print(var[6])"
   ]
  },
  {
   "cell_type": "code",
   "execution_count": 4,
   "metadata": {},
   "outputs": [],
   "source": [
    "# convert units variables and attributes\n",
    "for i in range(5):\n",
    "    ds[var[i]] = ds[var[i]] * 24 * 60 * 60     # g/m2/s --> g/m2/d\n",
    "    ds[var[i]].attrs['units']= 'gC/m2/d'\n",
    "\n",
    "ds['TBOT'] = ds.TBOT - 273.15  # K --> C \n",
    "ds.TBOT.attrs['units']= 'deg C'\n",
    "\n",
    "if var[6] == 'SOILLIQ':\n",
    "    dim_lev = ds[var[6]].dims[1] \n",
    "    ds['TOT_SOILLIQ'] = ds.SOILLIQ.sum(dim=dim_lev)\n",
    "    ds.TOT_SOILLIQ.attrs['units']= ds.SOILLIQ.attrs['units']\n",
    "    ds.TOT_SOILLIQ.attrs['long_name']= ds.SOILLIQ.attrs['long_name']\n",
    "else:\n",
    "    ds['TOT_SOILLIQ'] = ds.TWS\n",
    "\n",
    "# repeat for second dataset\n",
    "for i in range(5):\n",
    "    ds1[var[i]] = ds1[var[i]] * 24 * 60 * 60     # g/m2/s --> g/m2/d\n",
    "    ds1[var[i]].attrs['units']= 'gC/m2/d'\n",
    "\n",
    "ds1['TBOT'] = ds1.TBOT - 273.15  # K --> C \n",
    "ds1.TBOT.attrs['units']= 'deg C'\n",
    "\n",
    "if var[6] == 'SOILLIQ':\n",
    "    dim_lev = ds1[var[6]].dims[1] \n",
    "    ds1['TOT_SOILLIQ'] = ds1.SOILLIQ.sum(dim=dim_lev)\n",
    "    ds1.TOT_SOILLIQ.attrs['units']= ds1.SOILLIQ.attrs['units']\n",
    "    ds1.TOT_SOILLIQ.attrs['long_name']= ds1.SOILLIQ.attrs['long_name']\n",
    "else:\n",
    "    ds1['TOT_SOILLIQ'] = ds1.TWS"
   ]
  },
  {
   "cell_type": "code",
   "execution_count": 5,
   "metadata": {},
   "outputs": [],
   "source": [
    "var.append('TOT_SOILLIQ')"
   ]
  },
  {
   "cell_type": "markdown",
   "metadata": {},
   "source": [
    "## Generate annual time series"
   ]
  },
  {
   "cell_type": "code",
   "execution_count": 6,
   "metadata": {},
   "outputs": [
    {
     "name": "stdout",
     "output_type": "stream",
     "text": [
      "<xarray.DataArray 'year' (time: 1980)>\n",
      "array([False, False, False, ...,  True,  True,  True])\n",
      "Coordinates:\n",
      "  * time     (time) object 1850-01-16 11:45:00 ... 2014-12-16 12:00:00\n"
     ]
    }
   ],
   "source": [
    "ds['land_area'] = ds.area*ds.landfrac*1e6 #km2-->m2\n",
    "ds.land_area.attrs['units']=cf.Unit('m^2')\n",
    "ds  = ds.where(ds.get(var[0]).max(dim='time'))  # mask out regions with no GPP for all variables\n",
    "\n",
    "ds1['land_area'] = ds1.area*ds1.landfrac*1e6 #km2-->m2\n",
    "ds1.land_area.attrs['units']=cf.Unit('m^2')\n",
    "ds1 = ds1.where(ds1.get(var[0]).max(dim='time'))  # mask out regions with no GPP for all variables\n",
    "\n",
    "ix_time = (ds['time.year']>1963)&(ds['time.year']<=2014)\n",
    "#ix_time1 = ix_time\n",
    "ix_time1 = (ds1['time.year']>1963)&(ds1['time.year']<=2005)\n",
    "years = np.unique((ds['time.year'][ix_time]).values)\n",
    "years1 = np.unique((ds1['time.year'][ix_time1]).values)\n",
    "print(ix_time)\n",
    "\n",
    "ix_lat = [(ds['lat']>=-90)&(ds['lat']<=90),\n",
    "          (ds['lat']>=-25)&(ds['lat']<=25),\n",
    "          (ds['lat']>=25)&(ds['lat']<=50),\n",
    "          (ds['lat']>=50)&(ds['lat']<=90),\n",
    "          (ds['lat']>=-50)&(ds['lat']<=-20)]\n",
    "temp = utils.weighted_annual_mean(ds.land_area * ds.GPP[ix_time,:,:]).sum(dim=('lat','lon'))*1e-15\n",
    "regions = ['Global','Tropics']#'NH Mid','NH High', 'SH Mid'\n",
    "global_ann = xr.Dataset(coords={'model': [Model,Model1], \n",
    "                                'region': regions, \n",
    "                                'time': temp.time})\n",
    "out_shape = (2, len(regions), len(temp.time))"
   ]
  },
  {
   "cell_type": "code",
   "execution_count": 7,
   "metadata": {},
   "outputs": [
    {
     "name": "stdout",
     "output_type": "stream",
     "text": [
      "starting GPP Global\n",
      "starting GPP Tropics\n",
      "starting AR Global\n",
      "starting AR Tropics\n",
      "starting HR Global\n",
      "starting HR Tropics\n",
      "starting NEE Global\n",
      "starting NEE Tropics\n",
      "starting NBP Global\n",
      "starting NBP Tropics\n",
      "starting TBOT Global\n",
      "starting TBOT Tropics\n",
      "starting SOILLIQ Global\n",
      "starting SOILLIQ Tropics\n",
      "starting TOT_SOILLIQ Global\n",
      "starting TOT_SOILLIQ Tropics\n",
      "--- finished! ---\n"
     ]
    }
   ],
   "source": [
    "# loop through each variable, region:\n",
    "# maybe quicker way to do this...?!\n",
    "\n",
    "for i in range(len(var)):\n",
    "    global_ann[var[i]] = xr.DataArray(np.empty(out_shape), dims=('model','region','time')) * np.nan\n",
    "    for j in range(len(regions)):\n",
    "        print('starting '+var[i]+' '+regions[j])\n",
    "        if i <= 4:\n",
    "            #  365 for d^-1 to yr^-1 ; 1e-15 for g to Pg\n",
    "            global_ann[var[i]][0,j,...] = 365*utils.weighted_annual_mean(ds.land_area[ix_lat[j],:]* \\\n",
    "                                      ds[var[i]][ix_time,ix_lat[j],:]).sum(dim=('lat','lon'))*1e-15\n",
    "            global_ann[var[i]][1,j,0:len(years1)] = 365*utils.weighted_annual_mean(ds1.land_area[ix_lat[j],:]* \\\n",
    "                                      ds1[var[i]][ix_time1,ix_lat[j],:]).sum(dim=('lat','lon'))*1e-15\n",
    "\n",
    "        if var[i] == 'TBOT':\n",
    "            # need to weight differently based on region size\n",
    "            wgt = ds.land_area[ix_lat[j],:] / ds.land_area[ix_lat[j],:].sum()\n",
    "            wgt1 = ds1.land_area[ix_lat[j],:] / ds1.land_area[ix_lat[j],:].sum()\n",
    "\n",
    "            global_ann[var[i]][0,j,...]= utils.weighted_annual_mean(wgt * \\\n",
    "                                        ds.TBOT[ix_time,ix_lat[j],:]).sum(dim=('lat','lon'))\n",
    "            global_ann[var[i]][1,j,0:len(years1)] = utils.weighted_annual_mean(wgt1 * \\\n",
    "                                        ds1.TBOT[ix_time1,ix_lat[j],:]).sum(dim=('lat','lon'))\n",
    "\n",
    "        if var[i] == 'TOT_SOILLIQ':\n",
    "            #  1e-15 for kg ->Tt \n",
    "            global_ann[var[i]][0,j,...] = utils.weighted_annual_mean(ds.land_area[ix_lat[j],:] * \\\n",
    "                                        ds[var[i]][ix_time,ix_lat[j],:]).sum(dim=('lat','lon'))*1e-15\n",
    "            global_ann[var[i]][1,j,0:len(years1)] = utils.weighted_annual_mean(ds1.land_area[ix_lat[j],:] * \\\n",
    "                                        ds1[var[i]][ix_time1,ix_lat[j],:]).sum(dim=('lat','lon'))*1e-15\n",
    "\n",
    "print('--- finished! ---')"
   ]
  },
  {
   "cell_type": "code",
   "execution_count": 8,
   "metadata": {},
   "outputs": [
    {
     "ename": "TypeError",
     "evalue": "Plotting requires coordinates to be numeric or dates of type np.datetime64, datetime.datetime, cftime.datetime or pd.Interval.",
     "output_type": "error",
     "traceback": [
      "\u001b[0;31m---------------------------------------------------------------------------\u001b[0m",
      "\u001b[0;31mTypeError\u001b[0m                                 Traceback (most recent call last)",
      "\u001b[0;32m<ipython-input-8-1db5d5af9246>\u001b[0m in \u001b[0;36m<module>\u001b[0;34m\u001b[0m\n\u001b[0;32m----> 1\u001b[0;31m \u001b[0mglobal_ann\u001b[0m\u001b[0;34m.\u001b[0m\u001b[0mTBOT\u001b[0m\u001b[0;34m[\u001b[0m\u001b[0;34m:\u001b[0m\u001b[0;34m,\u001b[0m\u001b[0;36m1\u001b[0m\u001b[0;34m,\u001b[0m\u001b[0;34m:\u001b[0m\u001b[0;34m]\u001b[0m\u001b[0;34m.\u001b[0m\u001b[0mplot\u001b[0m\u001b[0;34m(\u001b[0m\u001b[0;34m)\u001b[0m\u001b[0;34m;\u001b[0m\u001b[0;34m\u001b[0m\u001b[0;34m\u001b[0m\u001b[0m\n\u001b[0m",
      "\u001b[0;32m~/miniconda3/envs/python-tutorial/lib/python3.7/site-packages/xarray/plot/plot.py\u001b[0m in \u001b[0;36m__call__\u001b[0;34m(self, **kwargs)\u001b[0m\n\u001b[1;32m    463\u001b[0m \u001b[0;34m\u001b[0m\u001b[0m\n\u001b[1;32m    464\u001b[0m     \u001b[0;32mdef\u001b[0m \u001b[0m__call__\u001b[0m\u001b[0;34m(\u001b[0m\u001b[0mself\u001b[0m\u001b[0;34m,\u001b[0m \u001b[0;34m**\u001b[0m\u001b[0mkwargs\u001b[0m\u001b[0;34m)\u001b[0m\u001b[0;34m:\u001b[0m\u001b[0;34m\u001b[0m\u001b[0;34m\u001b[0m\u001b[0m\n\u001b[0;32m--> 465\u001b[0;31m         \u001b[0;32mreturn\u001b[0m \u001b[0mplot\u001b[0m\u001b[0;34m(\u001b[0m\u001b[0mself\u001b[0m\u001b[0;34m.\u001b[0m\u001b[0m_da\u001b[0m\u001b[0;34m,\u001b[0m \u001b[0;34m**\u001b[0m\u001b[0mkwargs\u001b[0m\u001b[0;34m)\u001b[0m\u001b[0;34m\u001b[0m\u001b[0;34m\u001b[0m\u001b[0m\n\u001b[0m\u001b[1;32m    466\u001b[0m \u001b[0;34m\u001b[0m\u001b[0m\n\u001b[1;32m    467\u001b[0m     \u001b[0;34m@\u001b[0m\u001b[0mfunctools\u001b[0m\u001b[0;34m.\u001b[0m\u001b[0mwraps\u001b[0m\u001b[0;34m(\u001b[0m\u001b[0mhist\u001b[0m\u001b[0;34m)\u001b[0m\u001b[0;34m\u001b[0m\u001b[0;34m\u001b[0m\u001b[0m\n",
      "\u001b[0;32m~/miniconda3/envs/python-tutorial/lib/python3.7/site-packages/xarray/plot/plot.py\u001b[0m in \u001b[0;36mplot\u001b[0;34m(darray, row, col, col_wrap, ax, hue, rtol, subplot_kws, **kwargs)\u001b[0m\n\u001b[1;32m    200\u001b[0m     \u001b[0mkwargs\u001b[0m\u001b[0;34m[\u001b[0m\u001b[0;34m\"ax\"\u001b[0m\u001b[0;34m]\u001b[0m \u001b[0;34m=\u001b[0m \u001b[0max\u001b[0m\u001b[0;34m\u001b[0m\u001b[0;34m\u001b[0m\u001b[0m\n\u001b[1;32m    201\u001b[0m \u001b[0;34m\u001b[0m\u001b[0m\n\u001b[0;32m--> 202\u001b[0;31m     \u001b[0;32mreturn\u001b[0m \u001b[0mplotfunc\u001b[0m\u001b[0;34m(\u001b[0m\u001b[0mdarray\u001b[0m\u001b[0;34m,\u001b[0m \u001b[0;34m**\u001b[0m\u001b[0mkwargs\u001b[0m\u001b[0;34m)\u001b[0m\u001b[0;34m\u001b[0m\u001b[0;34m\u001b[0m\u001b[0m\n\u001b[0m\u001b[1;32m    203\u001b[0m \u001b[0;34m\u001b[0m\u001b[0m\n\u001b[1;32m    204\u001b[0m \u001b[0;34m\u001b[0m\u001b[0m\n",
      "\u001b[0;32m~/miniconda3/envs/python-tutorial/lib/python3.7/site-packages/xarray/plot/plot.py\u001b[0m in \u001b[0;36mnewplotfunc\u001b[0;34m(darray, x, y, figsize, size, aspect, ax, row, col, col_wrap, xincrease, yincrease, add_colorbar, add_labels, vmin, vmax, cmap, center, robust, extend, levels, infer_intervals, colors, subplot_kws, cbar_ax, cbar_kwargs, xscale, yscale, xticks, yticks, xlim, ylim, norm, **kwargs)\u001b[0m\n\u001b[1;32m    698\u001b[0m         \u001b[0myplt\u001b[0m\u001b[0;34m,\u001b[0m \u001b[0mylab_extra\u001b[0m \u001b[0;34m=\u001b[0m \u001b[0m_resolve_intervals_2dplot\u001b[0m\u001b[0;34m(\u001b[0m\u001b[0myval\u001b[0m\u001b[0;34m,\u001b[0m \u001b[0mplotfunc\u001b[0m\u001b[0;34m.\u001b[0m\u001b[0m__name__\u001b[0m\u001b[0;34m)\u001b[0m\u001b[0;34m\u001b[0m\u001b[0;34m\u001b[0m\u001b[0m\n\u001b[1;32m    699\u001b[0m \u001b[0;34m\u001b[0m\u001b[0m\n\u001b[0;32m--> 700\u001b[0;31m         \u001b[0m_ensure_plottable\u001b[0m\u001b[0;34m(\u001b[0m\u001b[0mxplt\u001b[0m\u001b[0;34m,\u001b[0m \u001b[0myplt\u001b[0m\u001b[0;34m)\u001b[0m\u001b[0;34m\u001b[0m\u001b[0;34m\u001b[0m\u001b[0m\n\u001b[0m\u001b[1;32m    701\u001b[0m \u001b[0;34m\u001b[0m\u001b[0m\n\u001b[1;32m    702\u001b[0m         cmap_params, cbar_kwargs = _process_cmap_cbar_kwargs(\n",
      "\u001b[0;32m~/miniconda3/envs/python-tutorial/lib/python3.7/site-packages/xarray/plot/utils.py\u001b[0m in \u001b[0;36m_ensure_plottable\u001b[0;34m(*args)\u001b[0m\n\u001b[1;32m    510\u001b[0m         ):\n\u001b[1;32m    511\u001b[0m             raise TypeError(\n\u001b[0;32m--> 512\u001b[0;31m                 \u001b[0;34m\"Plotting requires coordinates to be numeric \"\u001b[0m\u001b[0;34m\u001b[0m\u001b[0;34m\u001b[0m\u001b[0m\n\u001b[0m\u001b[1;32m    513\u001b[0m                 \u001b[0;34m\"or dates of type np.datetime64, \"\u001b[0m\u001b[0;34m\u001b[0m\u001b[0;34m\u001b[0m\u001b[0m\n\u001b[1;32m    514\u001b[0m                 \u001b[0;34m\"datetime.datetime, cftime.datetime or \"\u001b[0m\u001b[0;34m\u001b[0m\u001b[0;34m\u001b[0m\u001b[0m\n",
      "\u001b[0;31mTypeError\u001b[0m: Plotting requires coordinates to be numeric or dates of type np.datetime64, datetime.datetime, cftime.datetime or pd.Interval."
     ]
    }
   ],
   "source": [
    "global_ann.TBOT[:,1,:].plot();"
   ]
  },
  {
   "cell_type": "code",
   "execution_count": null,
   "metadata": {},
   "outputs": [],
   "source": [
    "print(var)\n",
    "print(ds.land_area.sum().values*1e-12) #m2 --> million km2\n",
    "print(ds1.land_area.sum().values*1e-12) #m2 --> million km2"
   ]
  },
  {
   "cell_type": "code",
   "execution_count": null,
   "metadata": {},
   "outputs": [],
   "source": [
    "# sanity check\n",
    "plt.figure(figsize=[12,8])\n",
    "col = ['b','r']\n",
    "r = 1\n",
    "for j in range(4):\n",
    "    plt.subplot(2,3,(j+1))\n",
    "    for i in range(2):\n",
    "        plt.plot(global_ann.time,global_ann[var[j]][i,r,:],color=col[i])\n",
    "    plt.xlabel('Year')\n",
    "    plt.ylabel(regions[r]+' '+var[j]+' (PgC/yr)')\n",
    "\n",
    "plt.subplot(235)\n",
    "for i in range(2):\n",
    "    plt.plot(global_ann.time,global_ann.TOT_SOILLIQ[i,r,:],color=col[i])\n",
    "plt.xlabel('Year')\n",
    "plt.ylabel('TWS (TtH2O)')\n",
    "\n",
    "plt.subplot(236)\n",
    "for i in range(2):\n",
    "    plt.plot(global_ann.time,global_ann.TBOT[i,r,:],color=col[i])\n",
    "plt.xlabel('Year')\n",
    "plt.ylabel('TBOT (deg C)')\n",
    "plt.legend((Model, Model1),loc=2,frameon=False)\n",
    "plt.subplots_adjust(wspace=0.3);"
   ]
  },
  {
   "cell_type": "markdown",
   "metadata": {},
   "source": [
    "## Detrend data and fit linear model"
   ]
  },
  {
   "cell_type": "code",
   "execution_count": null,
   "metadata": {},
   "outputs": [],
   "source": [
    "global_ann_dt = xr.Dataset(coords={'model': [Model,Model1], 'region': regions, 'time': temp.time})\n",
    "v2 = ['GPP','AR','HR','NEE','NBP','TOT_SOILLIQ', 'TBOT']\n",
    "for i in range(len(v2)):\n",
    "    global_ann_dt[v2[i]] = xr.DataArray(np.empty(out_shape), dims=('model','region','time')) * np.nan\n",
    "    for j in range(len(regions)):\n",
    "        global_ann_dt[v2[i]][0,j,:] = signal.detrend(global_ann[v2[i]][0,j,:])\n",
    "        global_ann_dt[v2[i]][1,j,0:len(years1)] = signal.detrend(global_ann[v2[i]][1,j,0:len(years1)])"
   ]
  },
  {
   "cell_type": "code",
   "execution_count": null,
   "metadata": {},
   "outputs": [],
   "source": [
    "print(global_ann_dt['time.year'].isel(time=slice(16,None)))\n",
    "global_sd = global_ann_dt.isel(time=slice(16,None)).std('time') \n",
    "print(global_sd)"
   ]
  },
  {
   "cell_type": "markdown",
   "metadata": {},
   "source": [
    "## Plot\n",
    "Loop through C fluxes w/ moisture and temperature anomalies\n"
   ]
  },
  {
   "cell_type": "code",
   "execution_count": null,
   "metadata": {},
   "outputs": [],
   "source": [
    "nyrs = [len(years),len(years1)]\n",
    "r = 0          #region 0 = global, 1 = tropics\n",
    "\n",
    "fig = plt.figure(figsize=[10,20])\n",
    "k = 0\n",
    "for j in range(5):\n",
    "    for h in range(2):\n",
    "        k = k+1\n",
    "        for i in range(2):\n",
    "            plt.subplot(5,2,k)\n",
    "            if h == 0:\n",
    "                x  = global_ann_dt.TOT_SOILLIQ[i,r,0:nyrs[i]].values\n",
    "                xlim=[-2.2,2.8]\n",
    "            else:\n",
    "                x  = global_ann_dt.TBOT[i,r,0:nyrs[i]].values\n",
    "                xlim=[-1,1.3]\n",
    "\n",
    "            y  = global_ann_dt[v2[j]][i,r,0:nyrs[i]].values\n",
    "            model = LinearRegression().fit(x.reshape((-1, 1)), y)\n",
    "            R = np.round(stats.pearsonr(x,y)[0],2)\n",
    "            slope = np.round(model.coef_,2)[0]\n",
    "\n",
    "            xRange = np.array([x.min(),x.max()]).reshape(-1, 1)\n",
    "            yPred = model.predict(xRange)\n",
    "\n",
    "            plt.plot(x, y,'.',color=col[i])\n",
    "            plt.plot(xRange,yPred, color=col[i])\n",
    "            plt.ylim(-4.2,3.5)\n",
    "            plt.xlim(xlim)\n",
    "\n",
    "            if i == 1:\n",
    "                #plt.text(xlim[0]*0.9,3,Model1,fontsize=12, color='r')\n",
    "                plt.text(xlim[0]*0.9,3,'R = '+str(R),fontsize=12, color='r')\n",
    "                plt.text(xlim[0]*0.9,2.5,'slope = '+str(slope),fontsize=12, color='r')\n",
    "                #plt.text(-2.,1.5,'1964-2005',fontsize=12, color='r')\n",
    "\n",
    "            if i == 0: \n",
    "                #plt.text(xlim[1]*0.4,-2.5,Model,fontsize=12, color='b')\n",
    "                plt.text(xlim[1]*0.4,-3.5,'R = '+str(R),fontsize=12, color='b')\n",
    "                plt.text(xlim[1]*0.4,-4.0,'slope = '+str(slope),fontsize=12, color='b')\n",
    "                #plt.text(xlim[1]*0.4,-4.0,'1964-2014',fontsize=12, color='b')\n",
    "\n",
    "        if h == 0: \n",
    "            plt.xlabel(regions[r]+' SOILLIQ anomaly (Tt $\\mathregular{H_2O}$)')\n",
    "        else:\n",
    "            plt.xlabel(regions[r]+' TBOT anomaly (K)')\n",
    "            \n",
    "        plt.ylabel(regions[r]+' '+v2[j]+' anomaly (PgC $\\mathregular{y^{-1}}$)');\n",
    "#plt.title(Model);"
   ]
  },
  {
   "cell_type": "markdown",
   "metadata": {},
   "source": [
    "The slope of the line is similar to gamma_iav from Gretchen's 2018 paper (PgC y^-1 K^-1)?\n",
    "\n",
    "How similar are global and tropical anomalies?"
   ]
  },
  {
   "cell_type": "code",
   "execution_count": null,
   "metadata": {},
   "outputs": [],
   "source": [
    "print(v2)"
   ]
  },
  {
   "cell_type": "code",
   "execution_count": null,
   "metadata": {},
   "outputs": [],
   "source": [
    "fig = plt.figure(figsize=[10,16])\n",
    "k = 0\n",
    "\n",
    "for j in range(len(v2)):\n",
    "    k = k+1\n",
    "    plt.subplot(4,2,k)\n",
    "    x_range = [global_ann_dt[v2[j]].min(),global_ann_dt[v2[j]].max()]\n",
    "    for i in range(2): #for each model\n",
    "        y  = global_ann_dt[v2[j]][i,1,0:nyrs[i]].values  # tropics only\n",
    "        x  = global_ann_dt[v2[j]][i,0,0:nyrs[i]].values  # global\n",
    "        model = LinearRegression().fit(x.reshape((-1, 1)), y)\n",
    "        R = np.round(stats.pearsonr(x,y)[0],2)\n",
    "        slope = np.round(model.coef_,2)[0]\n",
    "\n",
    "        xlim=[x.min(),x.max()]\n",
    "        xRange = np.array(xlim).reshape(-1, 1)\n",
    "        yPred = model.predict(xRange)\n",
    "\n",
    "        plt.plot(x, y,'o',color=col[i])\n",
    "        plt.plot(xRange,yPred, color=col[i])\n",
    "        \n",
    "        if i == 1:\n",
    "            plt.text(x_range[0],x_range[1]*0.8,'R = '+str(R),fontsize=12, color='r')\n",
    "            plt.text(x_range[0],x_range[1]*0.65,'slope = '+str(slope),fontsize=12, color='r')\n",
    "\n",
    "        if i == 0: \n",
    "            plt.text(x_range[1]*0.3,x_range[1]*-0.65,'R = '+str(R),fontsize=12, color='b')\n",
    "            plt.text(x_range[1]*0.3,x_range[1]*-0.8,'slope = '+str(slope),fontsize=12, color='b')\n",
    "\n",
    "            \n",
    "    plt.ylabel(regions[1]+' '+v2[j]+' anomaly')\n",
    "    plt.xlabel(regions[0]+' '+v2[j]+' anomaly')\n",
    "        \n",
    "    plt.plot(x_range, x_range, 'k--')\n",
    "\n"
   ]
  },
  {
   "cell_type": "markdown",
   "metadata": {},
   "source": [
    "Slope says what fraction of global anomalies are expliained by tripics?"
   ]
  },
  {
   "cell_type": "markdown",
   "metadata": {},
   "source": [
    "## TWS & TBOT correlation"
   ]
  },
  {
   "cell_type": "code",
   "execution_count": null,
   "metadata": {},
   "outputs": [],
   "source": [
    "#SOILLIQ ~ TBOT\n",
    "fig = plt.figure(figsize=[5,4])\n",
    "for i in range(2):\n",
    "    x  = global_ann_dt.TOT_SOILLIQ[i,r,0:nyrs[i]].values\n",
    "    y  = global_ann_dt.TBOT[i,r,0:nyrs[i]].values\n",
    "    model = LinearRegression().fit(x.reshape((-1, 1)), y)\n",
    "    R = np.round(stats.pearsonr(x,y)[0],2)\n",
    "    slope = np.round(model.coef_,2)[0]\n",
    "\n",
    "    xRange = np.array([x.min(),x.max()]).reshape(-1, 1)\n",
    "    yPred = model.predict(xRange)\n",
    "\n",
    "    plt.plot(x, y,'.',color=col[i])\n",
    "    plt.plot(xRange,yPred, color=col[i])\n",
    "\n",
    "    plt.xlim(-2.3,2.4)\n",
    "    plt.ylim(-1.1,1.1)\n",
    "    if i == 1:\n",
    "        plt.text(-2.2,1.0,Model1,fontsize=11, color='r')\n",
    "        plt.text(-2.2,0.9,'R = '+str(R),fontsize=11, color='r')\n",
    "        plt.text(-2.2,0.8,'slope = '+str(slope),fontsize=11, color='r')\n",
    "        #plt.text(-2.,1.5,'1964-2005',fontsize=12, color='r')\n",
    "\n",
    "    if i == 0: \n",
    "        plt.text(1.1,-0.8,Model,fontsize=11, color='b')\n",
    "        plt.text(1.1,-0.9,'R = '+str(R),fontsize=11, color='b')\n",
    "        plt.text(1.1,-1.0,'slope = '+str(slope),fontsize=11, color='b')\n",
    "\n",
    "plt.xlabel(regions[r]+' TWS anomaly (Tt $\\mathregular{H_2O}$)')\n",
    "plt.ylabel(regions[r]+' TBOT anomaly (K)');\n",
    "#plt.title(Model);"
   ]
  },
  {
   "cell_type": "code",
   "execution_count": null,
   "metadata": {},
   "outputs": [],
   "source": []
  },
  {
   "cell_type": "code",
   "execution_count": null,
   "metadata": {},
   "outputs": [],
   "source": []
  }
 ],
 "metadata": {
  "kernelspec": {
   "display_name": "Python [conda env:miniconda3-python-tutorial]",
   "language": "python",
   "name": "conda-env-miniconda3-python-tutorial-py"
  },
  "language_info": {
   "codemirror_mode": {
    "name": "ipython",
    "version": 3
   },
   "file_extension": ".py",
   "mimetype": "text/x-python",
   "name": "python",
   "nbconvert_exporter": "python",
   "pygments_lexer": "ipython3",
   "version": "3.7.3"
  }
 },
 "nbformat": 4,
 "nbformat_minor": 4
}
