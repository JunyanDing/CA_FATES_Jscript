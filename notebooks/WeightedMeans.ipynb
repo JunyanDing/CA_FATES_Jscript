{
 "cells": [
  {
   "cell_type": "markdown",
   "metadata": {},
   "source": [
    "## Comparing methods of calculating weighted regional and global means"
   ]
  },
  {
   "cell_type": "markdown",
   "metadata": {},
   "source": [
    "### Import packages"
   ]
  },
  {
   "cell_type": "code",
   "execution_count": 1,
   "metadata": {},
   "outputs": [],
   "source": [
    "import xarray as xr\n",
    "import numpy as np\n",
    "import matplotlib.pyplot as plt\n",
    "import esmlab"
   ]
  },
  {
   "cell_type": "markdown",
   "metadata": {},
   "source": [
    "### Load in some test data"
   ]
  },
  {
   "cell_type": "code",
   "execution_count": 2,
   "metadata": {},
   "outputs": [
    {
     "name": "stdout",
     "output_type": "stream",
     "text": [
      "/glade/scratch/kdagon/archive/hydro_ensemble_default_params/lnd/hist/\n"
     ]
    }
   ],
   "source": [
    "scr_dir = '/glade/scratch/kdagon/archive/'\n",
    "case_name = 'hydro_ensemble_default_params'\n",
    "file_path = scr_dir+case_name+'/lnd/hist/'\n",
    "print(file_path)"
   ]
  },
  {
   "cell_type": "markdown",
   "metadata": {},
   "source": [
    "Specify model year to read in"
   ]
  },
  {
   "cell_type": "code",
   "execution_count": 3,
   "metadata": {},
   "outputs": [],
   "source": [
    "model_yr = 30"
   ]
  },
  {
   "cell_type": "code",
   "execution_count": 4,
   "metadata": {},
   "outputs": [],
   "source": [
    "fils_in = xr.open_mfdataset(file_path+'*.clm2.h0.00'+str(model_yr)+'*.nc', combine='by_coords')"
   ]
  },
  {
   "cell_type": "code",
   "execution_count": 5,
   "metadata": {},
   "outputs": [
    {
     "data": {
      "text/plain": [
       "<xarray.Dataset>\n",
       "Dimensions:                 (cft: 2, glc_nec: 10, hist_interval: 2, lat: 46, levdcmp: 1, levgrnd: 25, levlak: 10, levsoi: 20, lon: 72, ltype: 9, natpft: 15, nvegwcs: 4, time: 12)\n",
       "Coordinates:\n",
       "  * levgrnd                 (levgrnd) float32 0.01 0.04 ... 28.870724 41.998436\n",
       "  * lat                     (lat) float32 -90.0 -86.0 -82.0 ... 82.0 86.0 90.0\n",
       "  * lon                     (lon) float32 0.0 5.0 10.0 ... 345.0 350.0 355.0\n",
       "  * levlak                  (levlak) float32 0.05 0.6 2.1 ... 25.6 34.325 44.775\n",
       "  * levdcmp                 (levdcmp) float32 1.0\n",
       "  * time                    (time) object 0030-02-01 00:00:00 ... 0031-01-01 00:00:00\n",
       "Dimensions without coordinates: cft, glc_nec, hist_interval, levsoi, ltype, natpft, nvegwcs\n",
       "Data variables:\n",
       "    mcdate                  (time) int32 dask.array<chunksize=(1,), meta=np.ndarray>\n",
       "    mcsec                   (time) int32 dask.array<chunksize=(1,), meta=np.ndarray>\n",
       "    mdcur                   (time) int32 dask.array<chunksize=(1,), meta=np.ndarray>\n",
       "    mscur                   (time) int32 dask.array<chunksize=(1,), meta=np.ndarray>\n",
       "    nstep                   (time) int32 dask.array<chunksize=(1,), meta=np.ndarray>\n",
       "    time_bounds             (time, hist_interval) object dask.array<chunksize=(1, 2), meta=np.ndarray>\n",
       "    date_written            (time) |S16 dask.array<chunksize=(1,), meta=np.ndarray>\n",
       "    time_written            (time) |S16 dask.array<chunksize=(1,), meta=np.ndarray>\n",
       "    area                    (time, lat, lon) float32 dask.array<chunksize=(1, 46, 72), meta=np.ndarray>\n",
       "    landfrac                (time, lat, lon) float32 dask.array<chunksize=(1, 46, 72), meta=np.ndarray>\n",
       "    landmask                (time, lat, lon) float64 dask.array<chunksize=(1, 46, 72), meta=np.ndarray>\n",
       "    pftmask                 (time, lat, lon) float64 dask.array<chunksize=(1, 46, 72), meta=np.ndarray>\n",
       "    nbedrock                (time, lat, lon) float64 dask.array<chunksize=(1, 46, 72), meta=np.ndarray>\n",
       "    ATM_TOPO                (time, lat, lon) float32 dask.array<chunksize=(1, 46, 72), meta=np.ndarray>\n",
       "    BCDEP                   (time, lat, lon) float32 dask.array<chunksize=(1, 46, 72), meta=np.ndarray>\n",
       "    BTRAN2                  (time, lat, lon) float32 dask.array<chunksize=(1, 46, 72), meta=np.ndarray>\n",
       "    BTRANMN                 (time, lat, lon) float32 dask.array<chunksize=(1, 46, 72), meta=np.ndarray>\n",
       "    DSL                     (time, lat, lon) float32 dask.array<chunksize=(1, 46, 72), meta=np.ndarray>\n",
       "    DSTDEP                  (time, lat, lon) float32 dask.array<chunksize=(1, 46, 72), meta=np.ndarray>\n",
       "    DSTFLXT                 (time, lat, lon) float32 dask.array<chunksize=(1, 46, 72), meta=np.ndarray>\n",
       "    EFLXBUILD               (time, lat, lon) float32 dask.array<chunksize=(1, 46, 72), meta=np.ndarray>\n",
       "    EFLX_DYNBAL             (time, lat, lon) float32 dask.array<chunksize=(1, 46, 72), meta=np.ndarray>\n",
       "    EFLX_GRND_LAKE          (time, lat, lon) float32 dask.array<chunksize=(1, 46, 72), meta=np.ndarray>\n",
       "    EFLX_LH_TOT             (time, lat, lon) float32 dask.array<chunksize=(1, 46, 72), meta=np.ndarray>\n",
       "    EFLX_LH_TOT_R           (time, lat, lon) float32 dask.array<chunksize=(1, 46, 72), meta=np.ndarray>\n",
       "    ELAI                    (time, lat, lon) float32 dask.array<chunksize=(1, 46, 72), meta=np.ndarray>\n",
       "    ERRH2O                  (time, lat, lon) float32 dask.array<chunksize=(1, 46, 72), meta=np.ndarray>\n",
       "    ERRH2OSNO               (time, lat, lon) float32 dask.array<chunksize=(1, 46, 72), meta=np.ndarray>\n",
       "    ERRSEB                  (time, lat, lon) float32 dask.array<chunksize=(1, 46, 72), meta=np.ndarray>\n",
       "    ERRSOI                  (time, lat, lon) float32 dask.array<chunksize=(1, 46, 72), meta=np.ndarray>\n",
       "    ERRSOL                  (time, lat, lon) float32 dask.array<chunksize=(1, 46, 72), meta=np.ndarray>\n",
       "    ESAI                    (time, lat, lon) float32 dask.array<chunksize=(1, 46, 72), meta=np.ndarray>\n",
       "    FCEV                    (time, lat, lon) float32 dask.array<chunksize=(1, 46, 72), meta=np.ndarray>\n",
       "    FCOV                    (time, lat, lon) float32 dask.array<chunksize=(1, 46, 72), meta=np.ndarray>\n",
       "    FCTR                    (time, lat, lon) float32 dask.array<chunksize=(1, 46, 72), meta=np.ndarray>\n",
       "    FGEV                    (time, lat, lon) float32 dask.array<chunksize=(1, 46, 72), meta=np.ndarray>\n",
       "    FGR                     (time, lat, lon) float32 dask.array<chunksize=(1, 46, 72), meta=np.ndarray>\n",
       "    FGR12                   (time, lat, lon) float32 dask.array<chunksize=(1, 46, 72), meta=np.ndarray>\n",
       "    FH2OSFC                 (time, lat, lon) float32 dask.array<chunksize=(1, 46, 72), meta=np.ndarray>\n",
       "    FIRA                    (time, lat, lon) float32 dask.array<chunksize=(1, 46, 72), meta=np.ndarray>\n",
       "    FIRA_R                  (time, lat, lon) float32 dask.array<chunksize=(1, 46, 72), meta=np.ndarray>\n",
       "    FIRE                    (time, lat, lon) float32 dask.array<chunksize=(1, 46, 72), meta=np.ndarray>\n",
       "    FIRE_R                  (time, lat, lon) float32 dask.array<chunksize=(1, 46, 72), meta=np.ndarray>\n",
       "    FLDS                    (time, lat, lon) float32 dask.array<chunksize=(1, 46, 72), meta=np.ndarray>\n",
       "    FPSN                    (time, lat, lon) float32 dask.array<chunksize=(1, 46, 72), meta=np.ndarray>\n",
       "    FSA                     (time, lat, lon) float32 dask.array<chunksize=(1, 46, 72), meta=np.ndarray>\n",
       "    FSAT                    (time, lat, lon) float32 dask.array<chunksize=(1, 46, 72), meta=np.ndarray>\n",
       "    FSDS                    (time, lat, lon) float32 dask.array<chunksize=(1, 46, 72), meta=np.ndarray>\n",
       "    FSDSND                  (time, lat, lon) float32 dask.array<chunksize=(1, 46, 72), meta=np.ndarray>\n",
       "    FSDSNDLN                (time, lat, lon) float32 dask.array<chunksize=(1, 46, 72), meta=np.ndarray>\n",
       "    FSDSNI                  (time, lat, lon) float32 dask.array<chunksize=(1, 46, 72), meta=np.ndarray>\n",
       "    FSDSVD                  (time, lat, lon) float32 dask.array<chunksize=(1, 46, 72), meta=np.ndarray>\n",
       "    FSDSVDLN                (time, lat, lon) float32 dask.array<chunksize=(1, 46, 72), meta=np.ndarray>\n",
       "    FSDSVI                  (time, lat, lon) float32 dask.array<chunksize=(1, 46, 72), meta=np.ndarray>\n",
       "    FSDSVILN                (time, lat, lon) float32 dask.array<chunksize=(1, 46, 72), meta=np.ndarray>\n",
       "    FSH                     (time, lat, lon) float32 dask.array<chunksize=(1, 46, 72), meta=np.ndarray>\n",
       "    FSH_G                   (time, lat, lon) float32 dask.array<chunksize=(1, 46, 72), meta=np.ndarray>\n",
       "    FSH_PRECIP_CONVERSION   (time, lat, lon) float32 dask.array<chunksize=(1, 46, 72), meta=np.ndarray>\n",
       "    FSH_R                   (time, lat, lon) float32 dask.array<chunksize=(1, 46, 72), meta=np.ndarray>\n",
       "    FSH_RUNOFF_ICE_TO_LIQ   (time, lat, lon) float32 dask.array<chunksize=(1, 46, 72), meta=np.ndarray>\n",
       "    FSH_TO_COUPLER          (time, lat, lon) float32 dask.array<chunksize=(1, 46, 72), meta=np.ndarray>\n",
       "    FSH_V                   (time, lat, lon) float32 dask.array<chunksize=(1, 46, 72), meta=np.ndarray>\n",
       "    FSM                     (time, lat, lon) float32 dask.array<chunksize=(1, 46, 72), meta=np.ndarray>\n",
       "    FSNO                    (time, lat, lon) float32 dask.array<chunksize=(1, 46, 72), meta=np.ndarray>\n",
       "    FSNO_EFF                (time, lat, lon) float32 dask.array<chunksize=(1, 46, 72), meta=np.ndarray>\n",
       "    FSR                     (time, lat, lon) float32 dask.array<chunksize=(1, 46, 72), meta=np.ndarray>\n",
       "    FSRND                   (time, lat, lon) float32 dask.array<chunksize=(1, 46, 72), meta=np.ndarray>\n",
       "    FSRNDLN                 (time, lat, lon) float32 dask.array<chunksize=(1, 46, 72), meta=np.ndarray>\n",
       "    FSRNI                   (time, lat, lon) float32 dask.array<chunksize=(1, 46, 72), meta=np.ndarray>\n",
       "    FSRVD                   (time, lat, lon) float32 dask.array<chunksize=(1, 46, 72), meta=np.ndarray>\n",
       "    FSRVDLN                 (time, lat, lon) float32 dask.array<chunksize=(1, 46, 72), meta=np.ndarray>\n",
       "    FSRVI                   (time, lat, lon) float32 dask.array<chunksize=(1, 46, 72), meta=np.ndarray>\n",
       "    GSSHA                   (time, lat, lon) float32 dask.array<chunksize=(1, 46, 72), meta=np.ndarray>\n",
       "    GSSUN                   (time, lat, lon) float32 dask.array<chunksize=(1, 46, 72), meta=np.ndarray>\n",
       "    H2OCAN                  (time, lat, lon) float32 dask.array<chunksize=(1, 46, 72), meta=np.ndarray>\n",
       "    H2OSFC                  (time, lat, lon) float32 dask.array<chunksize=(1, 46, 72), meta=np.ndarray>\n",
       "    H2OSNO                  (time, lat, lon) float32 dask.array<chunksize=(1, 46, 72), meta=np.ndarray>\n",
       "    H2OSNO_TOP              (time, lat, lon) float32 dask.array<chunksize=(1, 46, 72), meta=np.ndarray>\n",
       "    H2OSOI                  (time, levsoi, lat, lon) float32 dask.array<chunksize=(1, 20, 46, 72), meta=np.ndarray>\n",
       "    HEAT_CONTENT1           (time, lat, lon) float32 dask.array<chunksize=(1, 46, 72), meta=np.ndarray>\n",
       "    HEAT_FROM_AC            (time, lat, lon) float32 dask.array<chunksize=(1, 46, 72), meta=np.ndarray>\n",
       "    HIA                     (time, lat, lon) float32 dask.array<chunksize=(1, 46, 72), meta=np.ndarray>\n",
       "    HIA_R                   (time, lat, lon) float32 dask.array<chunksize=(1, 46, 72), meta=np.ndarray>\n",
       "    HIA_U                   (time, lat, lon) float32 dask.array<chunksize=(1, 46, 72), meta=np.ndarray>\n",
       "    HUMIDEX                 (time, lat, lon) float32 dask.array<chunksize=(1, 46, 72), meta=np.ndarray>\n",
       "    HUMIDEX_R               (time, lat, lon) float32 dask.array<chunksize=(1, 46, 72), meta=np.ndarray>\n",
       "    HUMIDEX_U               (time, lat, lon) float32 dask.array<chunksize=(1, 46, 72), meta=np.ndarray>\n",
       "    ICE_CONTENT1            (time, lat, lon) float32 dask.array<chunksize=(1, 46, 72), meta=np.ndarray>\n",
       "    JMX25T                  (time, lat, lon) float32 dask.array<chunksize=(1, 46, 72), meta=np.ndarray>\n",
       "    Jmx25Z                  (time, lat, lon) float32 dask.array<chunksize=(1, 46, 72), meta=np.ndarray>\n",
       "    LAISHA                  (time, lat, lon) float32 dask.array<chunksize=(1, 46, 72), meta=np.ndarray>\n",
       "    LAISUN                  (time, lat, lon) float32 dask.array<chunksize=(1, 46, 72), meta=np.ndarray>\n",
       "    LAKEICEFRAC_SURF        (time, lat, lon) float32 dask.array<chunksize=(1, 46, 72), meta=np.ndarray>\n",
       "    LAKEICETHICK            (time, lat, lon) float32 dask.array<chunksize=(1, 46, 72), meta=np.ndarray>\n",
       "    LIQCAN                  (time, lat, lon) float32 dask.array<chunksize=(1, 46, 72), meta=np.ndarray>\n",
       "    LIQUID_CONTENT1         (time, lat, lon) float32 dask.array<chunksize=(1, 46, 72), meta=np.ndarray>\n",
       "    LNC                     (time, lat, lon) float32 dask.array<chunksize=(1, 46, 72), meta=np.ndarray>\n",
       "    MEG_acetaldehyde        (time, lat, lon) float32 dask.array<chunksize=(1, 46, 72), meta=np.ndarray>\n",
       "    MEG_acetic_acid         (time, lat, lon) float32 dask.array<chunksize=(1, 46, 72), meta=np.ndarray>\n",
       "    MEG_acetone             (time, lat, lon) float32 dask.array<chunksize=(1, 46, 72), meta=np.ndarray>\n",
       "    MEG_carene_3            (time, lat, lon) float32 dask.array<chunksize=(1, 46, 72), meta=np.ndarray>\n",
       "    MEG_ethanol             (time, lat, lon) float32 dask.array<chunksize=(1, 46, 72), meta=np.ndarray>\n",
       "    MEG_formaldehyde        (time, lat, lon) float32 dask.array<chunksize=(1, 46, 72), meta=np.ndarray>\n",
       "    MEG_isoprene            (time, lat, lon) float32 dask.array<chunksize=(1, 46, 72), meta=np.ndarray>\n",
       "    MEG_methanol            (time, lat, lon) float32 dask.array<chunksize=(1, 46, 72), meta=np.ndarray>\n",
       "    MEG_pinene_a            (time, lat, lon) float32 dask.array<chunksize=(1, 46, 72), meta=np.ndarray>\n",
       "    MEG_thujene_a           (time, lat, lon) float32 dask.array<chunksize=(1, 46, 72), meta=np.ndarray>\n",
       "    OCDEP                   (time, lat, lon) float32 dask.array<chunksize=(1, 46, 72), meta=np.ndarray>\n",
       "    PARVEGLN                (time, lat, lon) float32 dask.array<chunksize=(1, 46, 72), meta=np.ndarray>\n",
       "    PBOT                    (time, lat, lon) float32 dask.array<chunksize=(1, 46, 72), meta=np.ndarray>\n",
       "    PCO2                    (time, lat, lon) float32 dask.array<chunksize=(1, 46, 72), meta=np.ndarray>\n",
       "    PCT_CFT                 (time, cft, lat, lon) float32 dask.array<chunksize=(1, 2, 46, 72), meta=np.ndarray>\n",
       "    PCT_GLC_MEC             (time, glc_nec, lat, lon) float32 dask.array<chunksize=(1, 10, 46, 72), meta=np.ndarray>\n",
       "    PCT_LANDUNIT            (time, ltype, lat, lon) float32 dask.array<chunksize=(1, 9, 46, 72), meta=np.ndarray>\n",
       "    PCT_NAT_PFT             (time, natpft, lat, lon) float32 dask.array<chunksize=(1, 15, 46, 72), meta=np.ndarray>\n",
       "    Q2M                     (time, lat, lon) float32 dask.array<chunksize=(1, 46, 72), meta=np.ndarray>\n",
       "    QBOT                    (time, lat, lon) float32 dask.array<chunksize=(1, 46, 72), meta=np.ndarray>\n",
       "    QCHARGE                 (time, lat, lon) float32 dask.array<chunksize=(1, 46, 72), meta=np.ndarray>\n",
       "    QDRAI                   (time, lat, lon) float32 dask.array<chunksize=(1, 46, 72), meta=np.ndarray>\n",
       "    QDRAI_PERCH             (time, lat, lon) float32 dask.array<chunksize=(1, 46, 72), meta=np.ndarray>\n",
       "    QDRAI_XS                (time, lat, lon) float32 dask.array<chunksize=(1, 46, 72), meta=np.ndarray>\n",
       "    QDRIP                   (time, lat, lon) float32 dask.array<chunksize=(1, 46, 72), meta=np.ndarray>\n",
       "    QFLOOD                  (time, lat, lon) float32 dask.array<chunksize=(1, 46, 72), meta=np.ndarray>\n",
       "    QFLX_DEW_GRND           (time, lat, lon) float32 dask.array<chunksize=(1, 46, 72), meta=np.ndarray>\n",
       "    QFLX_DEW_SNOW           (time, lat, lon) float32 dask.array<chunksize=(1, 46, 72), meta=np.ndarray>\n",
       "    QFLX_EVAP_TOT           (time, lat, lon) float32 dask.array<chunksize=(1, 46, 72), meta=np.ndarray>\n",
       "    QFLX_ICE_DYNBAL         (time, lat, lon) float32 dask.array<chunksize=(1, 46, 72), meta=np.ndarray>\n",
       "    QFLX_LIQ_DYNBAL         (time, lat, lon) float32 dask.array<chunksize=(1, 46, 72), meta=np.ndarray>\n",
       "    QFLX_SNOW_DRAIN         (time, lat, lon) float32 dask.array<chunksize=(1, 46, 72), meta=np.ndarray>\n",
       "    QFLX_SNOW_DRAIN_ICE     (time, lat, lon) float32 dask.array<chunksize=(1, 46, 72), meta=np.ndarray>\n",
       "    QFLX_SUB_SNOW           (time, lat, lon) float32 dask.array<chunksize=(1, 46, 72), meta=np.ndarray>\n",
       "    QH2OSFC                 (time, lat, lon) float32 dask.array<chunksize=(1, 46, 72), meta=np.ndarray>\n",
       "    QICE                    (time, lat, lon) float32 dask.array<chunksize=(1, 46, 72), meta=np.ndarray>\n",
       "    QICE_FRZ                (time, lat, lon) float32 dask.array<chunksize=(1, 46, 72), meta=np.ndarray>\n",
       "    QICE_MELT               (time, lat, lon) float32 dask.array<chunksize=(1, 46, 72), meta=np.ndarray>\n",
       "    QINFL                   (time, lat, lon) float32 dask.array<chunksize=(1, 46, 72), meta=np.ndarray>\n",
       "    QINTR                   (time, lat, lon) float32 dask.array<chunksize=(1, 46, 72), meta=np.ndarray>\n",
       "    QIRRIG                  (time, lat, lon) float32 dask.array<chunksize=(1, 46, 72), meta=np.ndarray>\n",
       "    QOVER                   (time, lat, lon) float32 dask.array<chunksize=(1, 46, 72), meta=np.ndarray>\n",
       "    QRGWL                   (time, lat, lon) float32 dask.array<chunksize=(1, 46, 72), meta=np.ndarray>\n",
       "    QRUNOFF                 (time, lat, lon) float32 dask.array<chunksize=(1, 46, 72), meta=np.ndarray>\n",
       "    QRUNOFF_ICE             (time, lat, lon) float32 dask.array<chunksize=(1, 46, 72), meta=np.ndarray>\n",
       "    QRUNOFF_ICE_TO_COUPLER  (time, lat, lon) float32 dask.array<chunksize=(1, 46, 72), meta=np.ndarray>\n",
       "    QRUNOFF_TO_COUPLER      (time, lat, lon) float32 dask.array<chunksize=(1, 46, 72), meta=np.ndarray>\n",
       "    QSNOCPLIQ               (time, lat, lon) float32 dask.array<chunksize=(1, 46, 72), meta=np.ndarray>\n",
       "    QSNOEVAP                (time, lat, lon) float32 dask.array<chunksize=(1, 46, 72), meta=np.ndarray>\n",
       "    QSNOFRZ                 (time, lat, lon) float32 dask.array<chunksize=(1, 46, 72), meta=np.ndarray>\n",
       "    QSNOFRZ_ICE             (time, lat, lon) float32 dask.array<chunksize=(1, 46, 72), meta=np.ndarray>\n",
       "    QSNOMELT                (time, lat, lon) float32 dask.array<chunksize=(1, 46, 72), meta=np.ndarray>\n",
       "    QSNOMELT_ICE            (time, lat, lon) float32 dask.array<chunksize=(1, 46, 72), meta=np.ndarray>\n",
       "    QSNO_TEMPUNLOAD         (time, lat, lon) float32 dask.array<chunksize=(1, 46, 72), meta=np.ndarray>\n",
       "    QSNO_WINDUNLOAD         (time, lat, lon) float32 dask.array<chunksize=(1, 46, 72), meta=np.ndarray>\n",
       "    QSNWCPICE               (time, lat, lon) float32 dask.array<chunksize=(1, 46, 72), meta=np.ndarray>\n",
       "    QSOIL                   (time, lat, lon) float32 dask.array<chunksize=(1, 46, 72), meta=np.ndarray>\n",
       "    QSOIL_ICE               (time, lat, lon) float32 dask.array<chunksize=(1, 46, 72), meta=np.ndarray>\n",
       "    QVEGE                   (time, lat, lon) float32 dask.array<chunksize=(1, 46, 72), meta=np.ndarray>\n",
       "    QVEGT                   (time, lat, lon) float32 dask.array<chunksize=(1, 46, 72), meta=np.ndarray>\n",
       "    RAIN                    (time, lat, lon) float32 dask.array<chunksize=(1, 46, 72), meta=np.ndarray>\n",
       "    RAIN_FROM_ATM           (time, lat, lon) float32 dask.array<chunksize=(1, 46, 72), meta=np.ndarray>\n",
       "    RH2M                    (time, lat, lon) float32 dask.array<chunksize=(1, 46, 72), meta=np.ndarray>\n",
       "    RSSHA                   (time, lat, lon) float32 dask.array<chunksize=(1, 46, 72), meta=np.ndarray>\n",
       "    RSSUN                   (time, lat, lon) float32 dask.array<chunksize=(1, 46, 72), meta=np.ndarray>\n",
       "    SABG                    (time, lat, lon) float32 dask.array<chunksize=(1, 46, 72), meta=np.ndarray>\n",
       "    SABG_PEN                (time, lat, lon) float32 dask.array<chunksize=(1, 46, 72), meta=np.ndarray>\n",
       "    SABV                    (time, lat, lon) float32 dask.array<chunksize=(1, 46, 72), meta=np.ndarray>\n",
       "    SMP                     (time, levgrnd, lat, lon) float32 dask.array<chunksize=(1, 25, 46, 72), meta=np.ndarray>\n",
       "    SNOBCMCL                (time, lat, lon) float32 dask.array<chunksize=(1, 46, 72), meta=np.ndarray>\n",
       "    SNOBCMSL                (time, lat, lon) float32 dask.array<chunksize=(1, 46, 72), meta=np.ndarray>\n",
       "    SNOCAN                  (time, lat, lon) float32 dask.array<chunksize=(1, 46, 72), meta=np.ndarray>\n",
       "    SNODSTMCL               (time, lat, lon) float32 dask.array<chunksize=(1, 46, 72), meta=np.ndarray>\n",
       "    SNODSTMSL               (time, lat, lon) float32 dask.array<chunksize=(1, 46, 72), meta=np.ndarray>\n",
       "    SNOFSRND                (time, lat, lon) float32 dask.array<chunksize=(1, 46, 72), meta=np.ndarray>\n",
       "    SNOFSRNI                (time, lat, lon) float32 dask.array<chunksize=(1, 46, 72), meta=np.ndarray>\n",
       "    SNOFSRVD                (time, lat, lon) float32 dask.array<chunksize=(1, 46, 72), meta=np.ndarray>\n",
       "    SNOFSRVI                (time, lat, lon) float32 dask.array<chunksize=(1, 46, 72), meta=np.ndarray>\n",
       "    SNOINTABS               (time, lat, lon) float32 dask.array<chunksize=(1, 46, 72), meta=np.ndarray>\n",
       "    SNOOCMCL                (time, lat, lon) float32 dask.array<chunksize=(1, 46, 72), meta=np.ndarray>\n",
       "    SNOOCMSL                (time, lat, lon) float32 dask.array<chunksize=(1, 46, 72), meta=np.ndarray>\n",
       "    SNOTXMASS               (time, lat, lon) float32 dask.array<chunksize=(1, 46, 72), meta=np.ndarray>\n",
       "    SNOUNLOAD               (time, lat, lon) float32 dask.array<chunksize=(1, 46, 72), meta=np.ndarray>\n",
       "    SNOW                    (time, lat, lon) float32 dask.array<chunksize=(1, 46, 72), meta=np.ndarray>\n",
       "    SNOWDP                  (time, lat, lon) float32 dask.array<chunksize=(1, 46, 72), meta=np.ndarray>\n",
       "    SNOWICE                 (time, lat, lon) float32 dask.array<chunksize=(1, 46, 72), meta=np.ndarray>\n",
       "    SNOWLIQ                 (time, lat, lon) float32 dask.array<chunksize=(1, 46, 72), meta=np.ndarray>\n",
       "    SNOW_DEPTH              (time, lat, lon) float32 dask.array<chunksize=(1, 46, 72), meta=np.ndarray>\n",
       "    SNOW_FROM_ATM           (time, lat, lon) float32 dask.array<chunksize=(1, 46, 72), meta=np.ndarray>\n",
       "    SNOW_PERSISTENCE        (time, lat, lon) timedelta64[ns] dask.array<chunksize=(1, 46, 72), meta=np.ndarray>\n",
       "    SNOW_SINKS              (time, lat, lon) float32 dask.array<chunksize=(1, 46, 72), meta=np.ndarray>\n",
       "    SNOW_SOURCES            (time, lat, lon) float32 dask.array<chunksize=(1, 46, 72), meta=np.ndarray>\n",
       "    SOILICE                 (time, levsoi, lat, lon) float32 dask.array<chunksize=(1, 20, 46, 72), meta=np.ndarray>\n",
       "    SOILLIQ                 (time, levsoi, lat, lon) float32 dask.array<chunksize=(1, 20, 46, 72), meta=np.ndarray>\n",
       "    SOILRESIS               (time, lat, lon) float32 dask.array<chunksize=(1, 46, 72), meta=np.ndarray>\n",
       "    SOILWATER_10CM          (time, lat, lon) float32 dask.array<chunksize=(1, 46, 72), meta=np.ndarray>\n",
       "    SWBGT                   (time, lat, lon) float32 dask.array<chunksize=(1, 46, 72), meta=np.ndarray>\n",
       "    SWBGT_R                 (time, lat, lon) float32 dask.array<chunksize=(1, 46, 72), meta=np.ndarray>\n",
       "    SWBGT_U                 (time, lat, lon) float32 dask.array<chunksize=(1, 46, 72), meta=np.ndarray>\n",
       "    TAUX                    (time, lat, lon) float32 dask.array<chunksize=(1, 46, 72), meta=np.ndarray>\n",
       "    TAUY                    (time, lat, lon) float32 dask.array<chunksize=(1, 46, 72), meta=np.ndarray>\n",
       "    TBOT                    (time, lat, lon) float32 dask.array<chunksize=(1, 46, 72), meta=np.ndarray>\n",
       "    TBUILD                  (time, lat, lon) float32 dask.array<chunksize=(1, 46, 72), meta=np.ndarray>\n",
       "    TG                      (time, lat, lon) float32 dask.array<chunksize=(1, 46, 72), meta=np.ndarray>\n",
       "    TH2OSFC                 (time, lat, lon) float32 dask.array<chunksize=(1, 46, 72), meta=np.ndarray>\n",
       "    THBOT                   (time, lat, lon) float32 dask.array<chunksize=(1, 46, 72), meta=np.ndarray>\n",
       "    TKE1                    (time, lat, lon) float32 dask.array<chunksize=(1, 46, 72), meta=np.ndarray>\n",
       "    TLAI                    (time, lat, lon) float32 dask.array<chunksize=(1, 46, 72), meta=np.ndarray>\n",
       "    TLAKE                   (time, levlak, lat, lon) float32 dask.array<chunksize=(1, 10, 46, 72), meta=np.ndarray>\n",
       "    TOTSOILICE              (time, lat, lon) float32 dask.array<chunksize=(1, 46, 72), meta=np.ndarray>\n",
       "    TOTSOILLIQ              (time, lat, lon) float32 dask.array<chunksize=(1, 46, 72), meta=np.ndarray>\n",
       "    TPU25T                  (time, lat, lon) float32 dask.array<chunksize=(1, 46, 72), meta=np.ndarray>\n",
       "    TREFMNAV                (time, lat, lon) float32 dask.array<chunksize=(1, 46, 72), meta=np.ndarray>\n",
       "    TREFMXAV                (time, lat, lon) float32 dask.array<chunksize=(1, 46, 72), meta=np.ndarray>\n",
       "    TSA                     (time, lat, lon) float32 dask.array<chunksize=(1, 46, 72), meta=np.ndarray>\n",
       "    TSAI                    (time, lat, lon) float32 dask.array<chunksize=(1, 46, 72), meta=np.ndarray>\n",
       "    TSOI                    (time, levgrnd, lat, lon) float32 dask.array<chunksize=(1, 25, 46, 72), meta=np.ndarray>\n",
       "    TSOI_10CM               (time, lat, lon) float32 dask.array<chunksize=(1, 46, 72), meta=np.ndarray>\n",
       "    TSOI_ICE                (time, levgrnd, lat, lon) float32 dask.array<chunksize=(1, 25, 46, 72), meta=np.ndarray>\n",
       "    TV                      (time, lat, lon) float32 dask.array<chunksize=(1, 46, 72), meta=np.ndarray>\n",
       "    TWS                     (time, lat, lon) float32 dask.array<chunksize=(1, 46, 72), meta=np.ndarray>\n",
       "    U10                     (time, lat, lon) float32 dask.array<chunksize=(1, 46, 72), meta=np.ndarray>\n",
       "    U10_DUST                (time, lat, lon) float32 dask.array<chunksize=(1, 46, 72), meta=np.ndarray>\n",
       "    URBAN_AC                (time, lat, lon) float32 dask.array<chunksize=(1, 46, 72), meta=np.ndarray>\n",
       "    URBAN_HEAT              (time, lat, lon) float32 dask.array<chunksize=(1, 46, 72), meta=np.ndarray>\n",
       "    VCMX25T                 (time, lat, lon) float32 dask.array<chunksize=(1, 46, 72), meta=np.ndarray>\n",
       "    VEGWP                   (time, nvegwcs, lat, lon) float32 dask.array<chunksize=(1, 4, 46, 72), meta=np.ndarray>\n",
       "    VOLR                    (time, lat, lon) float32 dask.array<chunksize=(1, 46, 72), meta=np.ndarray>\n",
       "    VOLRMCH                 (time, lat, lon) float32 dask.array<chunksize=(1, 46, 72), meta=np.ndarray>\n",
       "    Vcmx25Z                 (time, lat, lon) float32 dask.array<chunksize=(1, 46, 72), meta=np.ndarray>\n",
       "    WA                      (time, lat, lon) float32 dask.array<chunksize=(1, 46, 72), meta=np.ndarray>\n",
       "    WASTEHEAT               (time, lat, lon) float32 dask.array<chunksize=(1, 46, 72), meta=np.ndarray>\n",
       "    WBT                     (time, lat, lon) float32 dask.array<chunksize=(1, 46, 72), meta=np.ndarray>\n",
       "    WBT_R                   (time, lat, lon) float32 dask.array<chunksize=(1, 46, 72), meta=np.ndarray>\n",
       "    WBT_U                   (time, lat, lon) float32 dask.array<chunksize=(1, 46, 72), meta=np.ndarray>\n",
       "    WIND                    (time, lat, lon) float32 dask.array<chunksize=(1, 46, 72), meta=np.ndarray>\n",
       "    ZBOT                    (time, lat, lon) float32 dask.array<chunksize=(1, 46, 72), meta=np.ndarray>\n",
       "    ZWT                     (time, lat, lon) float32 dask.array<chunksize=(1, 46, 72), meta=np.ndarray>\n",
       "    ZWT_PERCH               (time, lat, lon) float32 dask.array<chunksize=(1, 46, 72), meta=np.ndarray>\n",
       "Attributes:\n",
       "    title:                                     CLM History file information\n",
       "    comment:                                   NOTE: None of the variables ar...\n",
       "    Conventions:                               CF-1.0\n",
       "    history:                                   created on 01/24/20 17:02:25\n",
       "    source:                                    Community Land Model CLM4.0\n",
       "    hostname:                                  cheyenne\n",
       "    username:                                  kdagon\n",
       "    version:                                   unknown\n",
       "    revision_id:                               $Id: histFileMod.F90 42903 201...\n",
       "    case_title:                                UNSET\n",
       "    case_id:                                   hydro_ensemble_default_params\n",
       "    Surface_dataset:                           surfdata_4x5_16pfts_Irrig_CMIP...\n",
       "    Initial_conditions_dataset:                finidat_interp_dest.nc\n",
       "    PFT_physiological_constants_dataset:       clm5_params.c171117.nc\n",
       "    ltype_vegetated_or_bare_soil:              1\n",
       "    ltype_crop:                                2\n",
       "    ltype_UNUSED:                              3\n",
       "    ltype_landice_multiple_elevation_classes:  4\n",
       "    ltype_deep_lake:                           5\n",
       "    ltype_wetland:                             6\n",
       "    ltype_urban_tbd:                           7\n",
       "    ltype_urban_hd:                            8\n",
       "    ltype_urban_md:                            9\n",
       "    ctype_vegetated_or_bare_soil:              1\n",
       "    ctype_crop:                                2\n",
       "    ctype_crop_noncompete:                     2*100+m, m=cft_lb,cft_ub\n",
       "    ctype_landice:                             3\n",
       "    ctype_landice_multiple_elevation_classes:  4*100+m, m=1,glcnec\n",
       "    ctype_deep_lake:                           5\n",
       "    ctype_wetland:                             6\n",
       "    ctype_urban_roof:                          71\n",
       "    ctype_urban_sunwall:                       72\n",
       "    ctype_urban_shadewall:                     73\n",
       "    ctype_urban_impervious_road:               74\n",
       "    ctype_urban_pervious_road:                 75\n",
       "    cft_c3_crop:                               1\n",
       "    cft_c3_irrigated:                          2\n",
       "    time_period_freq:                          month_1\n",
       "    Time_constant_3Dvars_filename:             ./hydro_ensemble_default_param...\n",
       "    Time_constant_3Dvars:                      ZSOI:DZSOI:WATSAT:SUCSAT:BSW:H..."
      ]
     },
     "execution_count": 5,
     "metadata": {},
     "output_type": "execute_result"
    }
   ],
   "source": [
    "fils_in"
   ]
  },
  {
   "cell_type": "markdown",
   "metadata": {},
   "source": [
    "### Pull out a specific output variable"
   ]
  },
  {
   "cell_type": "code",
   "execution_count": 8,
   "metadata": {},
   "outputs": [
    {
     "data": {
      "text/plain": [
       "<xarray.DataArray 'TSA' (time: 12, lat: 46, lon: 72)>\n",
       "dask.array<concatenate, shape=(12, 46, 72), dtype=float32, chunksize=(1, 46, 72), chunktype=numpy.ndarray>\n",
       "Coordinates:\n",
       "  * lat      (lat) float32 -90.0 -86.0 -82.0 -78.0 -74.0 ... 78.0 82.0 86.0 90.0\n",
       "  * lon      (lon) float32 0.0 5.0 10.0 15.0 20.0 ... 340.0 345.0 350.0 355.0\n",
       "  * time     (time) object 0030-02-01 00:00:00 ... 0031-01-01 00:00:00\n",
       "Attributes:\n",
       "    long_name:     2m air temperature\n",
       "    units:         K\n",
       "    cell_methods:  time: mean"
      ]
     },
     "execution_count": 8,
     "metadata": {},
     "output_type": "execute_result"
    }
   ],
   "source": [
    "TSA = fils_in.TSA # this is now a DataArray of 2m air temperature\n",
    "TSA"
   ]
  },
  {
   "cell_type": "markdown",
   "metadata": {},
   "source": [
    "### Annual mean to make calculations simpler"
   ]
  },
  {
   "cell_type": "code",
   "execution_count": 29,
   "metadata": {},
   "outputs": [
    {
     "name": "stderr",
     "output_type": "stream",
     "text": [
      "/glade/work/kdagon/miniconda/envs/CMIP6-201910/lib/python3.7/site-packages/dask/array/numpy_compat.py:40: RuntimeWarning: invalid value encountered in true_divide\n",
      "  x = np.divide(x1, x2, out)\n"
     ]
    },
    {
     "data": {
      "image/png": "[encoded data removed]",
      "text/plain": [
       "<Figure size 432x288 with 2 Axes>"
      ]
     },
     "metadata": {
      "needs_background": "light"
     },
     "output_type": "display_data"
    }
   ],
   "source": [
    "TSA_amean = TSA.mean(dim='time')\n",
    "TSA_amean.plot(robust=True);"
   ]
  },
  {
   "cell_type": "markdown",
   "metadata": {},
   "source": [
    "### Gridcell area and landfrac info (first time index)"
   ]
  },
  {
   "cell_type": "code",
   "execution_count": 62,
   "metadata": {},
   "outputs": [],
   "source": [
    "area = fils_in.area[0]\n",
    "landfrac = fils_in.landfrac[0]"
   ]
  },
  {
   "cell_type": "markdown",
   "metadata": {},
   "source": [
    "### Calculate area weights"
   ]
  },
  {
   "cell_type": "code",
   "execution_count": 32,
   "metadata": {},
   "outputs": [
    {
     "data": {
      "text/plain": [
       "<xarray.DataArray (lat: 46, lon: 72)>\n",
       "dask.array<mul, shape=(46, 72), dtype=float32, chunksize=(46, 72), chunktype=numpy.ndarray>\n",
       "Coordinates:\n",
       "  * lat      (lat) float32 -90.0 -86.0 -82.0 -78.0 -74.0 ... 78.0 82.0 86.0 90.0\n",
       "  * lon      (lon) float32 0.0 5.0 10.0 15.0 20.0 ... 340.0 345.0 350.0 355.0\n",
       "    time     object 0030-02-01 00:00:00\n",
       "Attributes:\n",
       "    long_name:  grid cell areas\n",
       "    units:      km^2"
      ]
     },
     "execution_count": 32,
     "metadata": {},
     "output_type": "execute_result"
    }
   ],
   "source": [
    "arwt = area * landfrac"
   ]
  },
  {
   "cell_type": "code",
   "execution_count": 33,
   "metadata": {},
   "outputs": [],
   "source": [
    "# re-assign long_name attribute\n",
    "arwt.attrs['long_name'] = 'grid cell areas multiplied by landfrac'"
   ]
  },
  {
   "cell_type": "code",
   "execution_count": 15,
   "metadata": {},
   "outputs": [
    {
     "data": {
      "image/png": "[encoded data removed]",
      "text/plain": [
       "<Figure size 432x288 with 2 Axes>"
      ]
     },
     "metadata": {
      "needs_background": "light"
     },
     "output_type": "display_data"
    }
   ],
   "source": [
    "# quick plot of area weights\n",
    "arwt.plot(robust=True);"
   ]
  },
  {
   "cell_type": "markdown",
   "metadata": {},
   "source": [
    "### Normalize arwt: 2 methods!"
   ]
  },
  {
   "cell_type": "code",
   "execution_count": 20,
   "metadata": {},
   "outputs": [],
   "source": [
    "# normalize by sum of area weights\n",
    "arwt_norm_sum = arwt/arwt.sum()\n",
    "arwt_norm_sum.attrs['long_name'] = 'area weights normalized by sum'"
   ]
  },
  {
   "cell_type": "code",
   "execution_count": 40,
   "metadata": {},
   "outputs": [
    {
     "data": {
      "text/plain": [
       "<xarray.DataArray (lat: 46, lon: 72)>\n",
       "dask.array<truediv, shape=(46, 72), dtype=float32, chunksize=(46, 72), chunktype=numpy.ndarray>\n",
       "Coordinates:\n",
       "  * lat      (lat) float32 -90.0 -86.0 -82.0 -78.0 -74.0 ... 78.0 82.0 86.0 90.0\n",
       "  * lon      (lon) float32 0.0 5.0 10.0 15.0 20.0 ... 340.0 345.0 350.0 355.0\n",
       "    time     object 0030-02-01 00:00:00\n",
       "Attributes:\n",
       "    long_name:  area weights normalized by sum\n",
       "    units:      km^2"
      ]
     },
     "execution_count": 40,
     "metadata": {},
     "output_type": "execute_result"
    }
   ],
   "source": [
    "arwt_norm_sum"
   ]
  },
  {
   "cell_type": "code",
   "execution_count": 21,
   "metadata": {},
   "outputs": [],
   "source": [
    "# normalize by maximum of area weights\n",
    "arwt_norm_max = arwt/arwt.max()\n",
    "arwt_norm_max.attrs['long_name'] = 'area weights normalized by max'"
   ]
  },
  {
   "cell_type": "markdown",
   "metadata": {},
   "source": [
    "### Global means with both methods"
   ]
  },
  {
   "cell_type": "code",
   "execution_count": 70,
   "metadata": {},
   "outputs": [
    {
     "name": "stderr",
     "output_type": "stream",
     "text": [
      "/glade/work/kdagon/miniconda/envs/CMIP6-201910/lib/python3.7/site-packages/dask/array/numpy_compat.py:40: RuntimeWarning: invalid value encountered in true_divide\n",
      "  x = np.divide(x1, x2, out)\n"
     ]
    },
    {
     "data": {
      "text/plain": [
       "array(283.07242, dtype=float32)"
      ]
     },
     "execution_count": 70,
     "metadata": {},
     "output_type": "execute_result"
    }
   ],
   "source": [
    "# Needed help with getting scalar output from 2D weighted means: https://github.com/NCAR/esmlab/issues/28\n",
    "# Not sure why the true_divide warning shows up\n",
    "TSA_glob_mean_arwt_sum = esmlab.statistics.weighted_mean(TSA_amean, dim=['lat','lon'], weights=arwt_norm_sum).load().values\n",
    "TSA_glob_mean_arwt_sum"
   ]
  },
  {
   "cell_type": "code",
   "execution_count": 76,
   "metadata": {},
   "outputs": [
    {
     "name": "stderr",
     "output_type": "stream",
     "text": [
      "/glade/work/kdagon/miniconda/envs/CMIP6-201910/lib/python3.7/site-packages/dask/array/numpy_compat.py:40: RuntimeWarning: invalid value encountered in true_divide\n",
      "  x = np.divide(x1, x2, out)\n"
     ]
    },
    {
     "data": {
      "text/plain": [
       "array(283.07245, dtype=float32)"
      ]
     },
     "execution_count": 76,
     "metadata": {},
     "output_type": "execute_result"
    }
   ],
   "source": [
    "TSA_glob_mean_arwt_max = esmlab.statistics.weighted_mean(TSA_amean, dim=['lat','lon'], weights=arwt_norm_max).load().values\n",
    "TSA_glob_mean_arwt_max"
   ]
  },
  {
   "cell_type": "markdown",
   "metadata": {},
   "source": [
    "### Generate weights using cosine of latitudes"
   ]
  },
  {
   "cell_type": "code",
   "execution_count": 57,
   "metadata": {},
   "outputs": [],
   "source": [
    "lats = fils_in.lat"
   ]
  },
  {
   "cell_type": "code",
   "execution_count": 65,
   "metadata": {},
   "outputs": [],
   "source": [
    "# np.cos expects input in radians\n",
    "cwt = np.cos(lats * np.pi / 180.)"
   ]
  },
  {
   "cell_type": "code",
   "execution_count": 77,
   "metadata": {},
   "outputs": [
    {
     "name": "stderr",
     "output_type": "stream",
     "text": [
      "/glade/work/kdagon/miniconda/envs/CMIP6-201910/lib/python3.7/site-packages/dask/array/numpy_compat.py:40: RuntimeWarning: invalid value encountered in true_divide\n",
      "  x = np.divide(x1, x2, out)\n"
     ]
    },
    {
     "data": {
      "text/plain": [
       "array(279.76453, dtype=float32)"
      ]
     },
     "execution_count": 77,
     "metadata": {},
     "output_type": "execute_result"
    }
   ],
   "source": [
    "TSA_glob_mean_cwt = esmlab.statistics.weighted_mean(TSA_amean, dim=['lat'], weights=cwt).mean().values\n",
    "TSA_glob_mean_cwt"
   ]
  },
  {
   "cell_type": "markdown",
   "metadata": {},
   "source": [
    "### TO DO: calc area weights (arwt) with 2 different normalizations, esmlab weighted means function, cos(latitude) weighting, other NCL/tutorial methods?\n",
    "### Test global and regional both methods"
   ]
  },
  {
   "cell_type": "markdown",
   "metadata": {},
   "source": [
    "### Plot results so far"
   ]
  },
  {
   "cell_type": "code",
   "execution_count": 92,
   "metadata": {},
   "outputs": [
    {
     "data": {
      "image/png": "[encoded data removed]",
      "text/plain": [
       "<Figure size 432x288 with 1 Axes>"
      ]
     },
     "metadata": {
      "needs_background": "light"
     },
     "output_type": "display_data"
    }
   ],
   "source": [
    "x = np.arange(3)\n",
    "means = [TSA_glob_mean_arwt_sum, TSA_glob_mean_arwt_max, TSA_glob_mean_cwt]\n",
    "means_c = [x - 273.15 for x in means]\n",
    "plt.bar(x,means_c)\n",
    "plt.title(\"Comparing Global Mean Temperature Methods\")\n",
    "plt.ylabel(\"2m air temperature ($\\degree$C)\")\n",
    "plt.xticks(x, ('arwt sum','arwt max','cos lat'));"
   ]
  },
  {
   "cell_type": "code",
   "execution_count": null,
   "metadata": {},
   "outputs": [],
   "source": [
    "# Note: values seem low? Due to 4x5? only one year?"
   ]
  }
 ],
 "metadata": {
  "kernelspec": {
   "display_name": "Python (conda-cmip6)",
   "language": "python",
   "name": "cmip6-201910"
  },
  "language_info": {
   "codemirror_mode": {
    "name": "ipython",
    "version": 3
   },
   "file_extension": ".py",
   "mimetype": "text/x-python",
   "name": "python",
   "nbconvert_exporter": "python",
   "pygments_lexer": "ipython3",
   "version": "3.7.3"
  }
 },
 "nbformat": 4,
 "nbformat_minor": 4
}
