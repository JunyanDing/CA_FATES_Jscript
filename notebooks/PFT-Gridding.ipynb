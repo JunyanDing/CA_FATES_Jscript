{
 "cells": [
  {
   "cell_type": "markdown",
   "metadata": {},
   "source": [
    "### Importing Libraries"
   ]
  },
  {
   "cell_type": "code",
   "execution_count": 1,
   "metadata": {},
   "outputs": [],
   "source": [
    "%matplotlib inline\n",
    "import numpy as np\n",
    "from numpy import empty\n",
    "import warnings\n",
    "warnings.filterwarnings('ignore')\n",
    "import xarray as xr\n",
    "import metpy as metpy\n",
    "import netCDF4\n",
    "from netCDF4 import Dataset\n",
    "#from ctsm_py import utils  #when using utils in the CTSM_py directory (work); also need to do pip install -e\n",
    "#import esmlab  #note: need to make sure to install in current environment first\n",
    "#note that CMIP6 doesn't have metpy; use conda env:miniconda-analysis"
   ]
  },
  {
   "cell_type": "markdown",
   "metadata": {},
   "source": [
    "### Defining simulation information"
   ]
  },
  {
   "cell_type": "code",
   "execution_count": 2,
   "metadata": {},
   "outputs": [],
   "source": [
    "datadir        = \"/glade/p/cgd/tss/people/dll/TRENDY2019_History/\"\n",
    "sim            = \"S0_control/\"\n",
    "datadir        = datadir + sim\n",
    "simname        = \"TRENDY2019_S0_control_v2.clm2.h1.\"\n",
    "var            = \"GPP\"\n",
    "years          = \"170001-201812\""
   ]
  },
  {
   "cell_type": "code",
   "execution_count": 3,
   "metadata": {},
   "outputs": [
    {
     "name": "stdout",
     "output_type": "stream",
     "text": [
      "/glade/p/cgd/tss/people/dll/TRENDY2019_History/S0_control/TRENDY2019_S0_control_v2.clm2.h1.GPP.170001-201812.nc\n"
     ]
    }
   ],
   "source": [
    "print(datadir+simname+var+\".\"+years+\".nc\")"
   ]
  },
  {
   "cell_type": "code",
   "execution_count": 4,
   "metadata": {},
   "outputs": [],
   "source": [
    "data1          = xr.open_dataset(datadir+simname+var+\".\"+years+\".nc\")\n",
    "#Use below for testing\n",
    "#data1          = xr.open_dataset(\"/glade/scratch/dll/archive/TRENDY2019_S0_constant_v2/lnd/hist/TRENDY2019_S0_constant_v2.clm2.h1.2018-12.nc\")"
   ]
  },
  {
   "cell_type": "markdown",
   "metadata": {},
   "source": [
    "### Reading in Land Use Change dataset for masking the real distribution of each crop type"
   ]
  },
  {
   "cell_type": "code",
   "execution_count": 5,
   "metadata": {},
   "outputs": [],
   "source": [
    "lucdat    = xr.open_dataset(\"/glade/p/cesmdata/cseg/inputdata/lnd/clm2/surfdata_map/release-clm5.0.24/landuse.timeseries_0.9x1.25_hist_78pfts_TRENDY_simyr1700-2018_c190814.nc\")"
   ]
  },
  {
   "cell_type": "code",
   "execution_count": 6,
   "metadata": {},
   "outputs": [],
   "source": [
    "# For TRENDY use, not for CTSM_py commit\n",
    "#note: HTOP ('theightpft') also requested, but info not in old script\n",
    "vars_in = ['TLAI', 'FCTR', 'GPP', 'NPP', 'TOTVEGC', 'TV']\n",
    "vars_out = ['lai','transpft','gpppft','npppft','cVegpft','tskinpft']\n",
    "units_out_list = ['None','W m-2','kg C m-2 s-1','kg C m-2 s-1','K']\n",
    "long_name_out_list = ['Leaf Area Index','Vegtype level transpiration','Vegtype level GPP','Vegtype level NPP','Vegtype level Carbon in Vegetation','Vegtype level Skin temperature']\n",
    "unit_convert_list = [1,1,1.e-3,1.e-3,1.e-3,1]"
   ]
  },
  {
   "cell_type": "markdown",
   "metadata": {},
   "source": [
    "### Reading in variables from data file"
   ]
  },
  {
   "cell_type": "code",
   "execution_count": 7,
   "metadata": {},
   "outputs": [],
   "source": [
    "years          = np.arange(1700,2018,1)\n",
    "month          = np.arange(1,12,1)\n",
    "area           = data1.area\n",
    "landfrac       = data1.landfrac\n",
    "lat            = data1.lat\n",
    "lon            = data1.lon\n",
    "time           = data1.time\n",
    "\n",
    "ixy            = data1.pfts1d_ixy\n",
    "jxy            = data1.pfts1d_jxy\n",
    "#coltype        = data1.pfts1d_itype_col\n",
    "vegtype        = data1.pfts1d_itype_veg\n",
    "cellwtd        = data1.pfts1d_wtgcell\n",
    "\n",
    "gpp            = data1.GPP\n",
    "#print(type(gpp))\n",
    "#print(gpp.dims)\n",
    "#print (gpp['time'].values)\n",
    "#print(gpp)"
   ]
  },
  {
   "cell_type": "markdown",
   "metadata": {},
   "source": [
    "### Reading in variables from LUC file"
   ]
  },
  {
   "cell_type": "code",
   "execution_count": 8,
   "metadata": {},
   "outputs": [
    {
     "name": "stdout",
     "output_type": "stream",
     "text": [
      "<xarray.DataArray 'PCT_CFT' (time: 319, cft: 64, lsmlat: 192, lsmlon: 288)>\n",
      "[1128923136 values with dtype=float64]\n",
      "Coordinates:\n",
      "  * cft      (cft) int32 15 16 17 18 19 20 21 22 23 ... 71 72 73 74 75 76 77 78\n",
      "  * time     (time) int32 1700 1701 1702 1703 1704 ... 2014 2015 2016 2017 2018\n",
      "Dimensions without coordinates: lsmlat, lsmlon\n",
      "Attributes:\n",
      "    long_name:  percent crop functional type on the crop landunit (% of landu...\n",
      "    units:      unitless\n",
      "<xarray.DataArray 'PCT_CROP' (time: 319, lsmlat: 192, lsmlon: 288)>\n",
      "[17639424 values with dtype=float64]\n",
      "Coordinates:\n",
      "  * time     (time) int32 1700 1701 1702 1703 1704 ... 2014 2015 2016 2017 2018\n",
      "Dimensions without coordinates: lsmlat, lsmlon\n",
      "Attributes:\n",
      "    long_name:  total percent crop landunit\n",
      "    units:      unitless\n",
      "<xarray.DataArray (time: 319, cft: 64, lsmlat: 192, lsmlon: 288)>\n",
      "array([[[[0., ..., 0.],\n",
      "         ...,\n",
      "         [0., ..., 0.]],\n",
      "\n",
      "        ...,\n",
      "\n",
      "        [[0., ..., 0.],\n",
      "         ...,\n",
      "         [0., ..., 0.]]],\n",
      "\n",
      "\n",
      "       ...,\n",
      "\n",
      "\n",
      "       [[[0., ..., 0.],\n",
      "         ...,\n",
      "         [0., ..., 0.]],\n",
      "\n",
      "        ...,\n",
      "\n",
      "        [[0., ..., 0.],\n",
      "         ...,\n",
      "         [0., ..., 0.]]]])\n",
      "Coordinates:\n",
      "  * cft      (cft) int32 15 16 17 18 19 20 21 22 23 ... 71 72 73 74 75 76 77 78\n",
      "  * time     (time) int32 1700 1701 1702 1703 1704 ... 2014 2015 2016 2017 2018\n",
      "Dimensions without coordinates: lsmlat, lsmlon\n",
      "<xarray.DataArray (time: 319, cft: 64, lsmlat: 192, lsmlon: 288)>\n",
      "array([[[[nan, ..., nan],\n",
      "         ...,\n",
      "         [nan, ..., nan]],\n",
      "\n",
      "        ...,\n",
      "\n",
      "        [[nan, ..., nan],\n",
      "         ...,\n",
      "         [nan, ..., nan]]],\n",
      "\n",
      "\n",
      "       ...,\n",
      "\n",
      "\n",
      "       [[[nan, ..., nan],\n",
      "         ...,\n",
      "         [nan, ..., nan]],\n",
      "\n",
      "        ...,\n",
      "\n",
      "        [[nan, ..., nan],\n",
      "         ...,\n",
      "         [nan, ..., nan]]]])\n",
      "Coordinates:\n",
      "  * cft      (cft) int32 15 16 17 18 19 20 21 22 23 ... 71 72 73 74 75 76 77 78\n",
      "  * time     (time) int32 1700 1701 1702 1703 1704 ... 2014 2015 2016 2017 2018\n",
      "Dimensions without coordinates: lsmlat, lsmlon\n"
     ]
    }
   ],
   "source": [
    "pctcft         = lucdat.PCT_CFT\n",
    "pctcrop        = lucdat.PCT_CROP\n",
    "print(pctcft)\n",
    "print(pctcrop)\n",
    "\n",
    "#seems to work properly, but takes awhile. doesn't have any associated metadata\n",
    "#mask out low weights area\n",
    "cropwts        = (pctcft/100) * (pctcrop/100)\n",
    "print(cropwts)\n",
    "\n",
    "#Below code only provides \"True\" values\n",
    "cropwtsmask    = cropwts.where(cropwts>0.005)\n",
    "print(cropwtsmask)\n",
    "#How do I make sure this is \n",
    "\n",
    "#from NCL script -- only pulling values where >0.5% crop area for a certain crop type, set all other areas to fill\n",
    "#cropwts0       =  where( cropwts.gt.0.005, cropwts, 0 )        ;masking out area of interest\n",
    "#nonzeroarea    =  where( cropwts0.ne.0, cropwts0, cropwts0@_FillValue )"
   ]
  },
  {
   "cell_type": "markdown",
   "metadata": {},
   "source": [
    "### Processing variables"
   ]
  },
  {
   "cell_type": "code",
   "execution_count": null,
   "metadata": {},
   "outputs": [],
   "source": [
    "area.metpy.convert_units('m^2')\n",
    "landarea       = area*landfrac\n",
    "landarea.attrs['units']   = 'm^2'\n",
    "\n",
    "num_years       = len(time)//12\n",
    "print(num_years)\n",
    "npftvector      = len(ixy)\n",
    "#type(cellwtd)"
   ]
  },
  {
   "cell_type": "code",
   "execution_count": null,
   "metadata": {},
   "outputs": [],
   "source": [
    "#print (cellwtd.values)\n",
    "cellwt = cellwtd.values\n",
    "cellwt_float =cellwt.astype(float)\n",
    "\n",
    "#print (type(cellwt_float[1]))\n",
    "\n",
    "nlat = len(lat.values)\n",
    "nlon = len(lon.values)\n",
    "#print(nlat)\n",
    "#print(nlon)\n",
    "nvegtype = len(vegtype.values)\n",
    "ntim   = len(time.values)\n",
    "#print(ntim)\n",
    "#print (nvegtype)\n",
    "npft = (np.max(vegtype))\n",
    "npft = npft.astype(int)\n",
    "ntim2  = ntim//2\n",
    "\n",
    "#print (npftvector)"
   ]
  },
  {
   "cell_type": "code",
   "execution_count": null,
   "metadata": {},
   "outputs": [],
   "source": [
    "print (npft.values)\n",
    "print(type(npft))\n",
    "print(type(ntim))\n",
    "\n",
    "pftlist = np.arange(0,(npft.values+1),1)\n",
    "#print(pftlist)"
   ]
  },
  {
   "cell_type": "code",
   "execution_count": null,
   "metadata": {},
   "outputs": [],
   "source": [
    "pftname =   [\"not_vegetated\",\n",
    "             \"needleleaf_evergreen_temperate_tree\",\n",
    "             \"needleleaf_evergreen_boreal_tree\",\n",
    "             \"needleleaf_deciduous_boreal_tree\",\n",
    "             \"broadleaf_evergreen_tropical_tree\",\n",
    "             \"broadleaf_evergreen_temperate_tree\",\n",
    "             \"broadleaf_deciduous_tropical_tree\",\n",
    "             \"broadleaf_deciduous_temperate_tree\",\n",
    "             \"broadleaf_deciduous_boreal_tree\",\n",
    "             \"broadleaf_evergreen_shrub\",\n",
    "             \"broadleaf_deciduous_temperate_shrub\",\n",
    "             \"broadleaf_deciduous_boreal_shrub\",\n",
    "             \"c3_arctic_grass\",\n",
    "             \"c3_non-arctic_grass\",\n",
    "             \"c4_grass\",\n",
    "             \"unmanaged_c3_crop\",\n",
    "             \"unmanaged_c3_irrigated\",\n",
    "             \"corn\",\n",
    "             \"irrigated_corn\",\n",
    "             \"spring_wheat\",\n",
    "             \"irrigated_spring_wheat\",\n",
    "             \"winter_wheat\",\n",
    "             \"irrigated_winter_wheat\",\n",
    "             \"soybean\",\n",
    "             \"irrigated_soybean\",\n",
    "             \"barley\",\n",
    "             \"irrigated_barley\",\n",
    "             \"winter_barley\",\n",
    "             \"irrigated_winter_barley\",\n",
    "             \"rye\",\n",
    "             \"irrigated_rye\",\n",
    "             \"cassava\",\n",
    "             \"irrigated_cassava\",\n",
    "             \"citrus\",\n",
    "             \"irrigated_citrus\",\n",
    "             \"cocoa\",\n",
    "             \"irrigated_cocoa\",\n",
    "             \"coffee\",\n",
    "             \"irrigated_coffee\",\n",
    "             \"cotton\",\n",
    "             \"irrigated_cotton\",\n",
    "             \"datepalm\",\n",
    "             \"irrigated_datepalm\",\n",
    "             \"foddergrass\",\n",
    "             \"irrigated_foddergrass\",\n",
    "             \"grapes\",\n",
    "             \"irrigated_grapes\",\n",
    "             \"groundnuts\",\n",
    "             \"irrigated_groundnuts\",\n",
    "             \"millet\",\n",
    "             \"irrigated_millet\",\n",
    "             \"oilpalm\",\n",
    "             \"irrigated_oilpalm\",\n",
    "             \"potatoes\",\n",
    "             \"irrigated_potatoes\",\n",
    "             \"pulses\",\n",
    "             \"irrigated_pulses\",\n",
    "             \"rapeseed\",\n",
    "             \"irrigated_rapeseed\",\n",
    "             \"rice\",\n",
    "             \"irrigated_rice\",\n",
    "             \"sorghum\",\n",
    "             \"irrigated_sorghum\",\n",
    "             \"sugarbeet\",\n",
    "             \"irrigated_sugarbeet\",\n",
    "             \"sugarcane\",\n",
    "             \"irrigated_sugarcane\",\n",
    "             \"sunflower\",\n",
    "             \"irrigated_sunflower\",\n",
    "             \"miscanthus\",\n",
    "             \"irrigated_miscanthus\",\n",
    "             \"switchgrass\",\n",
    "             \"irrigated_switchgrass\",\n",
    "             \"tropical_corn\",\n",
    "             \"irrigated_tropical_corn\",\n",
    "             \"tropical_soybean\",\n",
    "             \"irrigated_tropical_soybean\"]\n",
    "#print(pftname)"
   ]
  },
  {
   "cell_type": "code",
   "execution_count": null,
   "metadata": {},
   "outputs": [],
   "source": [
    "print (vegtype.values[1])\n",
    "gridded = empty([ntim,npft.values+1,nlat,nlon])"
   ]
  },
  {
   "cell_type": "code",
   "execution_count": null,
   "metadata": {},
   "outputs": [],
   "source": [
    "%%time\n",
    "# Note: This does not mask out over 0 areas. Perhaps it doesn't matter? \n",
    "\n",
    "#for i in range(npftvector):\n",
    "#    if (cellwt_float[i]>0):\n",
    "gridded[:, vegtype.values.astype(int), jxy.values.astype(int) - 1, ixy.values.astype(int) - 1] = gpp.values\n"
   ]
  },
  {
   "cell_type": "code",
   "execution_count": null,
   "metadata": {},
   "outputs": [],
   "source": [
    "#%%time\n",
    "#this is time intensive: ~6.5s to regrid 1 month; 2.5min for timeseries\n",
    "#gridded_test = gridded\n",
    "#for i in range(npftvector):\n",
    "#    #gridded = empty([ntim,77,nlat,nlon])\n",
    "#    #print ('i = ',i)\n",
    "#    if (cellwt_float[i]>0):\n",
    "#        col     = ixy.values[i].astype(int) - 1\n",
    "#        row     = jxy.values[i].astype(int) - 1 \n",
    "#        vegidx = vegtype.values[i].astype(int)\n",
    "#        #print (gridded[:,vegidx, row, col])\n",
    "#        #print (gpp.values[:,i])\n",
    "#        gridded_test[:,vegidx, row, col] = gpp.values[:,i]\n",
    "#        #print (i)"
   ]
  },
  {
   "cell_type": "markdown",
   "metadata": {},
   "source": [
    "### Adding dimensions and coordinates"
   ]
  },
  {
   "cell_type": "code",
   "execution_count": null,
   "metadata": {},
   "outputs": [],
   "source": [
    "#print(gridded.shape)\n",
    "grid_dims = xr.DataArray(gridded, dims=(\"time\",\"pft\",\"lat\",\"lon\"))\n",
    "grid_dims = grid_dims.assign_coords(time=data1.time,pft=pftlist,lat=lat.values,lon=lon.values)\n",
    "grid_dims.name = var\n",
    "#print(grid_dims)\n",
    "\n",
    "#for comparing to loop\n",
    "#grid_dims_test = xr.DataArray(gridded_test, dims=(\"time\",\"pft\",\"lat\",\"lon\"))\n",
    "#grid_dims_test = grid_dims_test.assign_coords(time=data1.time,pft=pftlist,lat=lat.values,lon=lon.values)\n",
    "#grid_dims_test.name = var"
   ]
  },
  {
   "cell_type": "markdown",
   "metadata": {},
   "source": [
    "### writing netCDF file"
   ]
  },
  {
   "cell_type": "code",
   "execution_count": null,
   "metadata": {},
   "outputs": [],
   "source": [
    "grid_dims.to_netcdf(path=\"/glade/scratch/dll/griddedExample.nc\")\n",
    "#for comparing to loop\n",
    "#grid_dims_test.to_netcdf(path=\"/glade/scratch/dll/gridded_loop_Example.nc\")"
   ]
  },
  {
   "cell_type": "code",
   "execution_count": null,
   "metadata": {},
   "outputs": [],
   "source": []
  },
  {
   "cell_type": "markdown",
   "metadata": {},
   "source": [
    "To do:\n",
    "- correct time dimension to start in Jan\n",
    "- Add PFT names to the PFT dimension\n",
    "- mask data by PFT distribution in the land surface dataset"
   ]
  },
  {
   "cell_type": "code",
   "execution_count": null,
   "metadata": {},
   "outputs": [],
   "source": [
    "#doesn't work yet... need to investigate\n",
    "reshaped = grid_dims.values.reshape(num_years, 12, *gridded.values.shape[1:])\n",
    " \n",
    "values = xr.DataArray(reshaped,\n",
    "                      dims=('year','month','lat','lon'),\n",
    "                      coords=(np.arange(1850, 1850+num_years), np.arange(12), data.lat, data.lon))\n",
    "values.attrs['units'] = data.attrs['units']\n",
    "sims[sim_name] = values"
   ]
  },
  {
   "cell_type": "code",
   "execution_count": null,
   "metadata": {},
   "outputs": [],
   "source": []
  }
 ],
 "metadata": {
  "kernelspec": {
   "display_name": "Python [conda env:miniconda-analysis]",
   "language": "python",
   "name": "conda-env-miniconda-analysis-py"
  },
  "language_info": {
   "codemirror_mode": {
    "name": "ipython",
    "version": 3
   },
   "file_extension": ".py",
   "mimetype": "text/x-python",
   "name": "python",
   "nbconvert_exporter": "python",
   "pygments_lexer": "ipython3",
   "version": "3.7.3"
  }
 },
 "nbformat": 4,
 "nbformat_minor": 4
}
