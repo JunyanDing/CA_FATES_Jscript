{
 "cells": [
  {
   "cell_type": "markdown",
   "metadata": {},
   "source": [
    "### Importing Libraries"
   ]
  },
  {
   "cell_type": "code",
   "execution_count": 2,
   "metadata": {},
   "outputs": [],
   "source": [
    "%matplotlib inline\n",
    "import numpy as np\n",
    "from numpy import empty\n",
    "import warnings\n",
    "warnings.filterwarnings('ignore')\n",
    "import xarray as xr\n",
    "import metpy as metpy\n",
    "import netCDF4\n",
    "from netCDF4 import Dataset\n",
    "#from ctsm_py import utils  #when using utils in the CTSM_py directory (work); also need to do pip install -e\n",
    "#import esmlab  #note: need to make sure to install in current environment first\n",
    "#note that CMIP6 doesn't have metpy; use conda env:miniconda-analysis"
   ]
  },
  {
   "cell_type": "markdown",
   "metadata": {},
   "source": [
    "### Defining simulation information"
   ]
  },
  {
   "cell_type": "code",
   "execution_count": 3,
   "metadata": {},
   "outputs": [],
   "source": [
    "datadir        = \"/glade/p/cgd/tss/people/dll/TRENDY2019_History/\"\n",
    "sim            = \"S0_control/\"\n",
    "datadir        = datadir + sim\n",
    "simname        = \"TRENDY2019_S0_control_v2.clm2.h1.\"\n",
    "var            = \"GPP\"\n",
    "years          = \"170001-201812\""
   ]
  },
  {
   "cell_type": "code",
   "execution_count": 4,
   "metadata": {},
   "outputs": [
    {
     "name": "stdout",
     "output_type": "stream",
     "text": [
      "/glade/p/cgd/tss/people/dll/TRENDY2019_History/S0_control/TRENDY2019_S0_control_v2.clm2.h1.GPP.170001-201812.nc\n"
     ]
    }
   ],
   "source": [
    "print(datadir+simname+var+\".\"+years+\".nc\")"
   ]
  },
  {
   "cell_type": "code",
   "execution_count": 5,
   "metadata": {},
   "outputs": [],
   "source": [
    "data1          = xr.open_dataset(datadir+simname+var+\".\"+years+\".nc\")\n",
    "#Use below for testing\n",
    "#data1          = xr.open_dataset(\"/glade/scratch/dll/archive/TRENDY2019_S0_constant_v2/lnd/hist/TRENDY2019_S0_constant_v2.clm2.h1.2018-12.nc\")"
   ]
  },
  {
   "cell_type": "markdown",
   "metadata": {},
   "source": [
    "### Reading in variables from file"
   ]
  },
  {
   "cell_type": "code",
   "execution_count": 6,
   "metadata": {},
   "outputs": [
    {
     "name": "stdout",
     "output_type": "stream",
     "text": [
      "<class 'xarray.core.dataarray.DataArray'>\n",
      "('time', 'pft')\n"
     ]
    }
   ],
   "source": [
    "years          = np.arange(1700,2018,1)\n",
    "month          = np.arange(1,12,1)\n",
    "area           = data1.area\n",
    "landfrac       = data1.landfrac\n",
    "lat            = data1.lat\n",
    "lon            = data1.lon\n",
    "time           = data1.time\n",
    "\n",
    "ixy            = data1.pfts1d_ixy\n",
    "jxy            = data1.pfts1d_jxy\n",
    "coltype        = data1.pfts1d_itype_col\n",
    "vegtype        = data1.pfts1d_itype_veg\n",
    "cellwtd        = data1.pfts1d_wtgcell\n",
    "\n",
    "gpp            = data1.GPP\n",
    "print(type(gpp))\n",
    "print(gpp.dims)\n",
    "#print (gpp['time'].values)\n"
   ]
  },
  {
   "cell_type": "markdown",
   "metadata": {},
   "source": [
    "### Processing variables"
   ]
  },
  {
   "cell_type": "code",
   "execution_count": 7,
   "metadata": {},
   "outputs": [
    {
     "name": "stdout",
     "output_type": "stream",
     "text": [
      "319\n"
     ]
    },
    {
     "data": {
      "text/plain": [
       "xarray.core.dataarray.DataArray"
      ]
     },
     "execution_count": 7,
     "metadata": {},
     "output_type": "execute_result"
    }
   ],
   "source": [
    "area.metpy.convert_units('m^2')\n",
    "landarea       = area*landfrac\n",
    "landarea.attrs['units']   = 'm^2'\n",
    "\n",
    "num_years       = len(time)//12\n",
    "print(num_years)\n",
    "npftvector      = len(ixy)\n",
    "type(cellwtd)"
   ]
  },
  {
   "cell_type": "code",
   "execution_count": 10,
   "metadata": {},
   "outputs": [
    {
     "name": "stdout",
     "output_type": "stream",
     "text": [
      "3828\n"
     ]
    }
   ],
   "source": [
    "#print (cellwtd.values)\n",
    "cellwt = cellwtd.values\n",
    "cellwt_float =cellwt.astype(float)\n",
    "\n",
    "#print (type(cellwt_float[1]))\n",
    "\n",
    "nlat = len(lat.values)\n",
    "nlon = len(lon.values)\n",
    "#print(nlat)\n",
    "#print(nlon)\n",
    "nvegtype = len(vegtype.values)\n",
    "ntim   = len(time.values)\n",
    "print(ntim)\n",
    "#print (nvegtype)\n",
    "npft = (np.max(vegtype))\n",
    "npft = npft.astype(int)\n",
    "ntim2  = ntim//2\n",
    "\n",
    "#print (npftvector)"
   ]
  },
  {
   "cell_type": "code",
   "execution_count": 11,
   "metadata": {},
   "outputs": [
    {
     "name": "stdout",
     "output_type": "stream",
     "text": [
      "77\n",
      "<class 'xarray.core.dataarray.DataArray'>\n",
      "<class 'int'>\n"
     ]
    }
   ],
   "source": [
    "print (npft.values)\n",
    "print(type(npft))\n",
    "print(type(ntim))\n",
    "\n",
    "pftlist = np.arange(0,(npft.values+1),1)\n",
    "#print(pftlist)"
   ]
  },
  {
   "cell_type": "code",
   "execution_count": 12,
   "metadata": {},
   "outputs": [
    {
     "name": "stdout",
     "output_type": "stream",
     "text": [
      "0.0\n"
     ]
    }
   ],
   "source": [
    "print (vegtype.values[1])\n",
    "gridded = empty([ntim,npft.values+1,nlat,nlon])"
   ]
  },
  {
   "cell_type": "code",
   "execution_count": 13,
   "metadata": {},
   "outputs": [
    {
     "name": "stdout",
     "output_type": "stream",
     "text": [
      "CPU times: user 50.6 s, sys: 44.6 s, total: 1min 35s\n",
      "Wall time: 2min 15s\n"
     ]
    }
   ],
   "source": [
    "%%time\n",
    "#this is time intensive: ~6.5s to regrid 1 month; 2.5min for timeseries\n",
    "for i in range(npftvector):\n",
    "    #gridded = empty([ntim,77,nlat,nlon])\n",
    "    #print ('i = ',i)\n",
    "    if (cellwt_float[i]>0):\n",
    "        col     = ixy.values[i].astype(int) - 1\n",
    "        row     = jxy.values[i].astype(int) - 1 \n",
    "        vegidx = vegtype.values[i].astype(int)\n",
    "        #print (gridded[:,vegidx, row, col])\n",
    "        #print (gpp.values[:,i])\n",
    "        gridded[:,vegidx, row, col] = gpp.values[:,i]\n",
    "        #print (i)"
   ]
  },
  {
   "cell_type": "markdown",
   "metadata": {},
   "source": [
    "### Adding dimensions and coordinates"
   ]
  },
  {
   "cell_type": "code",
   "execution_count": 15,
   "metadata": {},
   "outputs": [
    {
     "name": "stdout",
     "output_type": "stream",
     "text": [
      "(3828, 78, 192, 288)\n",
      "<xarray.DataArray 'GPP' (time: 3828, pft: 78, lat: 192, lon: 288)>\n",
      "array([[[[0., ..., 0.],\n",
      "         ...,\n",
      "         [0., ..., 0.]],\n",
      "\n",
      "        ...,\n",
      "\n",
      "        [[0., ..., 0.],\n",
      "         ...,\n",
      "         [0., ..., 0.]]],\n",
      "\n",
      "\n",
      "       ...,\n",
      "\n",
      "\n",
      "       [[[0., ..., 0.],\n",
      "         ...,\n",
      "         [0., ..., 0.]],\n",
      "\n",
      "        ...,\n",
      "\n",
      "        [[0., ..., 0.],\n",
      "         ...,\n",
      "         [0., ..., 0.]]]])\n",
      "Coordinates:\n",
      "  * lat      (lat) float32 -90.0 -89.057594 -88.11518 ... 89.057594 90.0\n",
      "  * lon      (lon) float32 0.0 1.25 2.5 3.75 5.0 ... 355.0 356.25 357.5 358.75\n",
      "  * pft      (pft) int64 0 1 2 3 4 5 6 7 8 9 ... 68 69 70 71 72 73 74 75 76 77\n",
      "  * time     (time) object 1700-02-01 00:00:00 ... 2019-01-01 00:00:00\n"
     ]
    }
   ],
   "source": [
    "print(gridded.shape)\n",
    "grid_dims = xr.DataArray(gridded, dims=(\"time\",\"pft\",\"lat\",\"lon\"))\n",
    "grid_dims = grid_dims.assign_coords(time=data1.time,pft=pftlist,lat=lat.values,lon=lon.values)\n",
    "grid_dims.name = var\n",
    "print(grid_dims)"
   ]
  },
  {
   "cell_type": "markdown",
   "metadata": {},
   "source": [
    "### writing netCDF file"
   ]
  },
  {
   "cell_type": "code",
   "execution_count": 16,
   "metadata": {},
   "outputs": [],
   "source": [
    "grid_dims.to_netcdf(path=\"/glade/scratch/dll/griddedExample.nc\")"
   ]
  },
  {
   "cell_type": "code",
   "execution_count": null,
   "metadata": {},
   "outputs": [],
   "source": []
  },
  {
   "cell_type": "code",
   "execution_count": null,
   "metadata": {},
   "outputs": [],
   "source": []
  },
  {
   "cell_type": "code",
   "execution_count": null,
   "metadata": {},
   "outputs": [],
   "source": [
    "#doesn't work yet... need to investigate\n",
    "reshaped = grid_dims.values.reshape(num_years, 12, *gridded.values.shape[1:])\n",
    " \n",
    "values = xr.DataArray(reshaped,\n",
    "                      dims=('year','month','lat','lon'),\n",
    "                      coords=(np.arange(1850, 1850+num_years), np.arange(12), data.lat, data.lon))\n",
    "values.attrs['units'] = data.attrs['units']\n",
    "sims[sim_name] = values"
   ]
  },
  {
   "cell_type": "code",
   "execution_count": null,
   "metadata": {},
   "outputs": [],
   "source": []
  }
 ],
 "metadata": {
  "kernelspec": {
   "display_name": "Python [conda env:miniconda-analysis]",
   "language": "python",
   "name": "conda-env-miniconda-analysis-py"
  },
  "language_info": {
   "codemirror_mode": {
    "name": "ipython",
    "version": 3
   },
   "file_extension": ".py",
   "mimetype": "text/x-python",
   "name": "python",
   "nbconvert_exporter": "python",
   "pygments_lexer": "ipython3",
   "version": "3.7.3"
  }
 },
 "nbformat": 4,
 "nbformat_minor": 4
}
